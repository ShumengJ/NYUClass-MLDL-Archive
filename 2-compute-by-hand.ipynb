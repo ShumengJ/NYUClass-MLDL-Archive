{
  "cells": [
    {
      "cell_type": "markdown",
      "metadata": {
        "id": "view-in-github",
        "colab_type": "text"
      },
      "source": [
        "<a href=\"https://colab.research.google.com/github/ShumengJ/ECEGY6143-ML-Archive/blob/main/2-compute-by-hand.ipynb\" target=\"_parent\"><img src=\"https://colab.research.google.com/assets/colab-badge.svg\" alt=\"Open In Colab\"/></a>"
      ]
    },
    {
      "cell_type": "markdown",
      "metadata": {
        "id": "YCcfSy-s2UJ2"
      },
      "source": [
        "Computing regression coefficients\n",
        "---------------------------------\n",
        "\n",
        "This notebook walks through the steps involved in manual (pen and paper)\n",
        "computation of the optimal least squares regression coefficients, using\n",
        "the normal equations.\n",
        "\n",
        "We’ll also show how to do each of these steps in Python, so that you can\n",
        "try other values for $X$ and $y$ and then check your work."
      ],
      "id": "YCcfSy-s2UJ2"
    },
    {
      "cell_type": "code",
      "execution_count": null,
      "metadata": {
        "id": "wxKT82I42UJ5"
      },
      "outputs": [],
      "source": [
        "import pandas as pd\n",
        "import seaborn as sns\n",
        "import numpy as np\n",
        "\n",
        "from IPython.core.interactiveshell import InteractiveShell\n",
        "InteractiveShell.ast_node_interactivity = \"all\""
      ],
      "id": "wxKT82I42UJ5"
    },
    {
      "cell_type": "markdown",
      "metadata": {
        "id": "4IOBlD3y2UJ6"
      },
      "source": [
        "We will start with the labeled data. Our data includes four samples,\n",
        "with two features:\n",
        "\n",
        "$$ X =\n",
        "\\begin{bmatrix}\n",
        "1 & 2 \\\\\n",
        "2 & 3 \\\\\n",
        "4 & 1 \\\\\n",
        "5 & 5\n",
        "\\end{bmatrix},\n",
        "y =\n",
        "\\begin{bmatrix}\n",
        "3  \\\\\n",
        "2 \\\\\n",
        "7 \\\\\n",
        "1\n",
        "\\end{bmatrix}\n",
        "$$"
      ],
      "id": "4IOBlD3y2UJ6"
    },
    {
      "cell_type": "code",
      "execution_count": null,
      "metadata": {
        "id": "dP7qLOf52UJ6"
      },
      "outputs": [],
      "source": [
        "X = [[1,2], [2, 3], [4, 1], [5, 5]]\n",
        "y = [3, 2, 7, 1]"
      ],
      "id": "dP7qLOf52UJ6"
    },
    {
      "cell_type": "markdown",
      "metadata": {
        "id": "LjnMSTV12UJ7"
      },
      "source": [
        "We can use `seaborn` to plot each column of $X$ versus $y$:"
      ],
      "id": "LjnMSTV12UJ7"
    },
    {
      "cell_type": "code",
      "execution_count": null,
      "metadata": {
        "id": "G27zx1Co2UJ7"
      },
      "outputs": [],
      "source": [
        "df = pd.DataFrame(X, columns = [ 'x1', 'x2'])\n",
        "df = df.assign(y=y)\n",
        "\n",
        "melted = df.melt(id_vars=['y'], value_vars=[ 'x1','x2'])\n",
        "g = sns.FacetGrid(melted, col='variable', col_wrap=3);\n",
        "g.map(sns.scatterplot, 'value', 'y');"
      ],
      "id": "G27zx1Co2UJ7"
    },
    {
      "cell_type": "markdown",
      "metadata": {
        "id": "AyMMlBtU2UJ7"
      },
      "source": [
        "Of course, we will assume a linear model. For a given sample:\n",
        "\n",
        "$$\\hat{y} = w_0 + w_1 x_1 + w_2 x_2$$"
      ],
      "id": "AyMMlBtU2UJ7"
    },
    {
      "cell_type": "markdown",
      "metadata": {
        "id": "CIem9F3M2UJ7"
      },
      "source": [
        "Next, we will create a design matrix $A$ by horizontally “stacking” a\n",
        "vector of 1s and the matrix $X$:\n",
        "\n",
        "$$ A =\n",
        "\\begin{bmatrix}\n",
        "1 & 1 & 2 \\\\\n",
        "1 & 2 & 3 \\\\\n",
        "1 & 4 & 1 \\\\\n",
        "1 & 5 & 5\n",
        "\\end{bmatrix},\n",
        "$$"
      ],
      "id": "CIem9F3M2UJ7"
    },
    {
      "cell_type": "code",
      "execution_count": null,
      "metadata": {
        "id": "6UzCj-Aw2UJ8"
      },
      "outputs": [],
      "source": [
        "A = np.hstack((np.ones(4)[:,None], X))\n",
        "A"
      ],
      "id": "6UzCj-Aw2UJ8"
    },
    {
      "cell_type": "markdown",
      "metadata": {
        "id": "RcURz2mN2UJ8"
      },
      "source": [
        "Now we can represent our linear model more easily using matrices:\n",
        "\n",
        "$$\\hat{\\mathbf{\\hat{y}}} = A\\mathbf{w}$$\n",
        "\n",
        "where $\\hat{\\mathbf{\\hat{y}}}$ and $\\mathbf{w}$ are vectors."
      ],
      "id": "RcURz2mN2UJ8"
    },
    {
      "cell_type": "markdown",
      "metadata": {
        "id": "lqV25-kj2UJ8"
      },
      "source": [
        "The optimal least squares values for the vector $w$ are\n",
        "\n",
        "$$w^* = (A^T A)^{-1} A^{T} \\mathbf{y}$$\n",
        "\n",
        "Note that the least-squares solutions are the solutions of the matrix\n",
        "equation\n",
        "\n",
        "$$ A^T A \\mathbf{w} = A^T \\mathbf{y}$$\n",
        "\n",
        "A matrix equation is in the form $Ax=b$, where $A$ is an $m \\times n$\n",
        "matrix and $b$ is a column vector with $m$ entries. It can be solved for\n",
        "$x$ by forming the augmented matrix $(A | b)$ and then using elementary\n",
        "row operations to get it in row reduced form.\n",
        "\n",
        "Thus, to get $w$ we will:\n",
        "\n",
        "-   Compute the matrix $A^T A$ and the vector $A^T y$.\n",
        "-   Form the augmented matrix for the matrix equation $A^T A w = A^T y$:\n",
        "    $(A^T A | A^T y)$\n",
        "-   Row reduce to find the optimal value for $w$, \\$w^\\* \\$."
      ],
      "id": "lqV25-kj2UJ8"
    },
    {
      "cell_type": "markdown",
      "metadata": {
        "id": "k5gqlzS_2UJ9"
      },
      "source": [
        "The transpose of $A$, $A^T$, is the matrix whose rows are the columns of\n",
        "$A$:\n",
        "\n",
        "$$ A^T =\n",
        "\\begin{bmatrix}\n",
        "1 & 1 & 1 & 1 \\\\\n",
        "1 & 2 & 4 & 5 \\\\\n",
        "2 & 3 & 1 & 5\n",
        "\\end{bmatrix}\n",
        "$$"
      ],
      "id": "k5gqlzS_2UJ9"
    },
    {
      "cell_type": "code",
      "execution_count": null,
      "metadata": {
        "id": "evkEYiBv2UJ9"
      },
      "outputs": [],
      "source": [
        "A.T"
      ],
      "id": "evkEYiBv2UJ9"
    },
    {
      "cell_type": "markdown",
      "metadata": {
        "id": "mgcQIbv02UJ9"
      },
      "source": [
        "To solve\n",
        "\n",
        "$$ A^T A w = A^T y$$\n",
        "\n",
        "we’ll need $A^T A$:\n",
        "\n",
        "$$ A^T A =\n",
        "\\begin{bmatrix}\n",
        "1 & 1 & 1 & 1 \\\\\n",
        "1 & 2 & 4 & 5 \\\\\n",
        "2 & 3 & 1 & 5\n",
        "\\end{bmatrix}\n",
        "\\begin{bmatrix}\n",
        "1 & 1 & 2 \\\\\n",
        "1 & 2 & 3 \\\\\n",
        "1 & 4 & 1 \\\\\n",
        "1 & 5 & 5\n",
        "\\end{bmatrix} =\n",
        "\\begin{bmatrix}\n",
        "4 & 12 & 11 \\\\\n",
        "12 & 46 & 37 \\\\\n",
        "11 & 37 & 39\n",
        "\\end{bmatrix}\n",
        "$$"
      ],
      "id": "mgcQIbv02UJ9"
    },
    {
      "cell_type": "code",
      "execution_count": null,
      "metadata": {
        "id": "aThKncrl2UJ9"
      },
      "outputs": [],
      "source": [
        "A.T.dot(A)"
      ],
      "id": "aThKncrl2UJ9"
    },
    {
      "cell_type": "markdown",
      "metadata": {
        "id": "PTVSgjc12UJ9"
      },
      "source": [
        "and $A^T y$:\n",
        "\n",
        "$$ A^T y =\n",
        "\\begin{bmatrix}\n",
        "1 & 1 & 1 & 1 \\\\\n",
        "1 & 2 & 4 & 5 \\\\\n",
        "2 & 3 & 1 & 5\n",
        "\\end{bmatrix}\n",
        "\\begin{bmatrix}\n",
        "3  \\\\\n",
        "2 \\\\\n",
        "7 \\\\\n",
        "1\n",
        "\\end{bmatrix} =\n",
        "\\begin{bmatrix}\n",
        "13 \\\\\n",
        "40 \\\\\n",
        "24\n",
        "\\end{bmatrix}\n",
        "$$"
      ],
      "id": "PTVSgjc12UJ9"
    },
    {
      "cell_type": "code",
      "execution_count": null,
      "metadata": {
        "id": "ahq1Wy-M2UJ9"
      },
      "outputs": [],
      "source": [
        "A.T.dot(y)"
      ],
      "id": "ahq1Wy-M2UJ9"
    },
    {
      "cell_type": "markdown",
      "metadata": {
        "id": "KaBUQShB2UJ9"
      },
      "source": [
        "Next, create the augmented matrix $(A^T A | A^T y)$:\n",
        "\n",
        "$$ (A^T A | A^T y)=\n",
        "\\begin{bmatrix}\n",
        "4  & 12 & 11 & | & 13 \\\\\n",
        "12 & 46 & 37 & | & 40 \\\\\n",
        "11 & 37 & 39 & | & 24\n",
        "\\end{bmatrix}\n",
        "$$"
      ],
      "id": "KaBUQShB2UJ9"
    },
    {
      "cell_type": "code",
      "execution_count": null,
      "metadata": {
        "id": "nFYoWo5U2UJ-"
      },
      "outputs": [],
      "source": [
        "M1 = np.hstack([A.T.dot(A), A.T.dot(y)[:,None]])\n",
        "M1"
      ],
      "id": "nFYoWo5U2UJ-"
    },
    {
      "cell_type": "markdown",
      "metadata": {
        "id": "HgJzHUX52UJ-"
      },
      "source": [
        "We will perform some elementary row operations on the augmented matrix\n",
        "to get $A^T A$ in row reduced form:"
      ],
      "id": "HgJzHUX52UJ-"
    },
    {
      "cell_type": "code",
      "execution_count": null,
      "metadata": {
        "id": "_SO-kSyF2UJ-"
      },
      "outputs": [],
      "source": [
        "M2 = np.vstack([M1[0], M1[1]-3*M1[0], 4*M1[2]-11*M1[0]])\n",
        "M2"
      ],
      "id": "_SO-kSyF2UJ-"
    },
    {
      "cell_type": "code",
      "execution_count": null,
      "metadata": {
        "id": "nO19ywWy2UJ-"
      },
      "outputs": [],
      "source": [
        "M3 = np.vstack([M2[0], M2[1], 5*M2[2]-8*M2[1]])\n",
        "M3"
      ],
      "id": "nO19ywWy2UJ-"
    },
    {
      "cell_type": "code",
      "execution_count": null,
      "metadata": {
        "id": "ruZcEeXk2UJ-"
      },
      "outputs": [],
      "source": [
        "M4 = np.vstack([M3[0], 143*M3[1]-4*M3[2], M3[2]])\n",
        "M4"
      ],
      "id": "ruZcEeXk2UJ-"
    },
    {
      "cell_type": "code",
      "execution_count": null,
      "metadata": {
        "id": "lKa1B2Wa2UJ-"
      },
      "outputs": [],
      "source": [
        "M5 = np.vstack([143/2*(M4[0]-12/1430*M4[1] - 11/143*M4[2]), M4[1], M4[2]])\n",
        "M5"
      ],
      "id": "lKa1B2Wa2UJ-"
    },
    {
      "cell_type": "code",
      "execution_count": null,
      "metadata": {
        "id": "PiN3coQf2UJ-"
      },
      "outputs": [],
      "source": [
        "M6 = np.vstack([M5[0]/286, M5[1]/1430, M5[2]/143])\n",
        "M6"
      ],
      "id": "PiN3coQf2UJ-"
    },
    {
      "cell_type": "markdown",
      "metadata": {
        "id": "a14NFN2E2UJ-"
      },
      "source": [
        "When we’re finished, our augmented matrix looks like this:\n",
        "\n",
        "$$\n",
        "\\begin{bmatrix}\n",
        "1 & 0 & 0 & | & \\frac{1597}{286} \\\\\n",
        "0 & 1 & 0 & | & \\frac{1115}{1430} \\\\\n",
        "0 & 0 & 1 & | & \\frac{-243}{143}\n",
        "\\end{bmatrix}\n",
        "$$\n",
        "\n",
        "and so\n",
        "\n",
        "$$ w^* = \\left[ \\frac{1597}{286}, \\frac{1115}{1430}, \\frac{-243}{143} \\right] $$"
      ],
      "id": "a14NFN2E2UJ-"
    },
    {
      "cell_type": "code",
      "execution_count": null,
      "metadata": {
        "id": "HdB6lXjB2UJ-"
      },
      "outputs": [],
      "source": [
        "M6[:,3]"
      ],
      "id": "HdB6lXjB2UJ-"
    },
    {
      "cell_type": "markdown",
      "metadata": {
        "id": "TtOifrZA2UJ_"
      },
      "source": [
        "Compare this to the known solution:"
      ],
      "id": "TtOifrZA2UJ_"
    },
    {
      "cell_type": "code",
      "execution_count": null,
      "metadata": {
        "id": "jLO3Uw8x2UJ_"
      },
      "outputs": [],
      "source": [
        "np.linalg.inv( A.T.dot(A) ).dot(A.T.dot(y))"
      ],
      "id": "jLO3Uw8x2UJ_"
    }
  ],
  "nbformat": 4,
  "nbformat_minor": 5,
  "metadata": {
    "colab": {
      "provenance": [],
      "include_colab_link": true
    }
  }
}