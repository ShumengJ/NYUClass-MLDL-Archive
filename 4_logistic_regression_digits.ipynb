{
  "nbformat": 4,
  "nbformat_minor": 0,
  "metadata": {
    "colab": {
      "provenance": [],
      "include_colab_link": true
    },
    "kernelspec": {
      "name": "python3",
      "display_name": "Python 3"
    }
  },
  "cells": [
    {
      "cell_type": "markdown",
      "metadata": {
        "id": "view-in-github",
        "colab_type": "text"
      },
      "source": [
        "<a href=\"https://colab.research.google.com/github/ShumengJ/ECEGY6143-ML-Archive/blob/main/4_logistic_regression_digits.ipynb\" target=\"_parent\"><img src=\"https://colab.research.google.com/assets/colab-badge.svg\" alt=\"Open In Colab\"/></a>"
      ]
    },
    {
      "cell_type": "markdown",
      "metadata": {
        "id": "3W4AbXBx4lQE"
      },
      "source": [
        "# Demo: Logistic regression for classification of handwritten digits\n"
      ]
    },
    {
      "cell_type": "markdown",
      "metadata": {
        "id": "C0uNbvDhB1-z"
      },
      "source": [
        "\n",
        "In this demo, we will explore the use of logistic regression for classification of handwritten digits. In other words, given an image of a handwritten digit, we want to classify it as a 0, 1, 2, 3, ...\n"
      ]
    },
    {
      "cell_type": "code",
      "metadata": {
        "id": "t7G3S7u4G5nd"
      },
      "source": [
        "import numpy as np\n",
        "import pandas as pd\n",
        "import seaborn as sns\n",
        "import matplotlib.pyplot as plt\n",
        "from sklearn.datasets import fetch_openml\n",
        "from sklearn.model_selection import train_test_split\n",
        "from sklearn.linear_model import LogisticRegression\n",
        "from sklearn.metrics import accuracy_score\n",
        "\n",
        "from IPython.core.interactiveshell import InteractiveShell\n",
        "InteractiveShell.ast_node_interactivity = \"all\""
      ],
      "execution_count": null,
      "outputs": []
    },
    {
      "cell_type": "markdown",
      "metadata": {
        "id": "ULRbrU98CTZY"
      },
      "source": [
        "### Load the digits dataset\n",
        "\n",
        "For this demo, we will use a dataset known as [MNIST](https://en.wikipedia.org/wiki/MNIST_database). It contains 70,000 samples of handwritten digits, size-normalized and centered in a fixed-size image. Each sample is represented as a 28x28 pixel array, so there are 784 features per samples.\n",
        "\n",
        "We will start by loading the dataset using the `fetch_openml` function. This function allows us to retrieve a dataset by name from [OpenML](https://www.openml.org/), a public repository for machine learning data and experiments.\n"
      ]
    },
    {
      "cell_type": "code",
      "metadata": {
        "id": "pChMpHNKrcFe"
      },
      "source": [
        "X, y = fetch_openml('mnist_784', version=1, return_X_y=True)"
      ],
      "execution_count": null,
      "outputs": []
    },
    {
      "cell_type": "markdown",
      "metadata": {
        "id": "iJP0Efm7Dott"
      },
      "source": [
        "We observe that the data has 784 features and we have 70,000 samples:"
      ]
    },
    {
      "cell_type": "code",
      "metadata": {
        "id": "oGrmh2gNQgs1"
      },
      "source": [
        "X.shape"
      ],
      "execution_count": null,
      "outputs": []
    },
    {
      "cell_type": "markdown",
      "metadata": {
        "id": "YS73rkwCDtCH"
      },
      "source": [
        "The target variables is a label for each digit: 0, 1, 2, 3, 4, 5, 6, 7, 8, 9. There are 6000-8000 samples for each class."
      ]
    },
    {
      "cell_type": "code",
      "metadata": {
        "id": "gkgSjZAe8pl1"
      },
      "source": [
        "y.shape"
      ],
      "execution_count": null,
      "outputs": []
    },
    {
      "cell_type": "code",
      "metadata": {
        "id": "bMBQLaKshr-U"
      },
      "source": [
        "print(y)"
      ],
      "execution_count": null,
      "outputs": []
    },
    {
      "cell_type": "code",
      "metadata": {
        "id": "5QwaRCjAhso3"
      },
      "source": [
        "pd.Series(y).value_counts()"
      ],
      "execution_count": null,
      "outputs": []
    },
    {
      "cell_type": "code",
      "metadata": {
        "id": "wTKfw5P14B1B"
      },
      "source": [
        "classes = ['0', '1', '2','3', '4','5', '6', '7', '8', '9']\n",
        "nclasses = len(classes)"
      ],
      "execution_count": null,
      "outputs": []
    },
    {
      "cell_type": "markdown",
      "metadata": {
        "id": "66qPcRFpD6WC"
      },
      "source": [
        "Each \"feature\" represents a pixel in the image, and each pixel can take on any integer value from 0 to 255.   A large value for a pixel means that there is writing in that part of the image.\n",
        "\n"
      ]
    },
    {
      "cell_type": "markdown",
      "metadata": {
        "id": "N4sGJ_TYF9cP"
      },
      "source": [
        "We can see a few examples, by plotting the 784 features as a 28x28 grid. In these images, white pixels indicate high values in the feature matrix."
      ]
    },
    {
      "cell_type": "code",
      "metadata": {
        "id": "4I_ChCUDTLlD"
      },
      "source": [
        "samples_per_class = 5\n",
        "figure = plt.figure(figsize=(nclasses*2,(1+samples_per_class*2)));\n",
        "\n",
        "for idx_cls, cls in enumerate(classes):\n",
        "  idxs = np.flatnonzero(y == cls)\n",
        "  idxs = np.random.choice(idxs, samples_per_class, replace=False)\n",
        "  for i, idx in enumerate(idxs):\n",
        "    plt_idx = i * nclasses + idx_cls + 1\n",
        "    p = plt.subplot(samples_per_class, nclasses, plt_idx);\n",
        "    p = sns.heatmap(np.reshape(X[idx], (28,28)), cmap=plt.cm.gray,\n",
        "             xticklabels=False, yticklabels=False, cbar=False);\n",
        "    p = plt.axis('off');"
      ],
      "execution_count": null,
      "outputs": []
    },
    {
      "cell_type": "markdown",
      "metadata": {
        "id": "OPeINPhKE6ic"
      },
      "source": [
        "### Prepare data\n",
        "\n",
        "Next, we will split our data into a test and training set.\n",
        "\n",
        "We can use `train_test_split` from `sklearn.model_selection` to split the data."
      ]
    },
    {
      "cell_type": "markdown",
      "metadata": {
        "id": "qzpzXVOx4-h5"
      },
      "source": [
        "Since the dataset is very large, it can take a long time to train a classifier on it. We just want to use it to demonstrate some useful concepts, so we will work with a smaller subset of the dataset. When we split the data using the `train_test_split` function, we will specify that we want 7,500 samples in the training set and 2,500 samples in the test set."
      ]
    },
    {
      "cell_type": "code",
      "metadata": {
        "id": "5JRYtexpr1yD"
      },
      "source": [
        "X_train, X_test, y_train, y_test = train_test_split(X, y, random_state=9,\n",
        "                                     train_size=7500, test_size=2500)"
      ],
      "execution_count": null,
      "outputs": []
    },
    {
      "cell_type": "markdown",
      "metadata": {
        "id": "pDphpyyw5BPU"
      },
      "source": [
        "We'll also scale the data so that each feature takes on a value between 0 and 1."
      ]
    },
    {
      "cell_type": "code",
      "metadata": {
        "id": "cvFcUQoj5Gil"
      },
      "source": [
        "X_train_scaled = X_train/255.0\n",
        "X_test_scaled = X_test/255.0"
      ],
      "execution_count": null,
      "outputs": []
    },
    {
      "cell_type": "markdown",
      "metadata": {
        "id": "Ets-QA3FFlRO"
      },
      "source": [
        "### Train a classifier using logistic regression\n",
        "\n",
        "Finally, we are ready to train a classifier. We will use `sklearn`'s [LogisticRegression](https://scikit-learn.org/stable/modules/generated/sklearn.linear_model.LogisticRegression.html).\n",
        "\n",
        "Unlike the linear regression, there is no closed form solution to the least squares parameter estimate in logistic regression. Therefore, we need to use a\n",
        "\"solver\" which finds a numerical solution. Several solvers are available for use with `sklearn`'s `LogisticRegression`, but they don't all support all varieties of logistic regression.\n",
        "\n",
        "We will use the `saga` solver, which\n",
        "\n",
        "* works well when there is a large number of samples,\n",
        "* supports logistic regression with no regularization penalty, L1 penalty, L2 penalty, or ElasticNet (which uses both penalties),\n",
        "* and also supports multinomial regression with multiple classes, using the softmax function.\n",
        "\n",
        "In addition to specifying which solver we want to use, we also specify a tolerance, which gives stopping criteria for the solver. A higher tolerance will finish faster, but may not find the optimal solution.\n",
        "\n"
      ]
    },
    {
      "cell_type": "code",
      "metadata": {
        "id": "1-kuQXzMWb2B"
      },
      "source": [
        "clf = LogisticRegression(penalty='none',\n",
        "                         tol=0.1, solver='saga',\n",
        "                         multi_class='multinomial').fit(X_train_scaled, y_train)"
      ],
      "execution_count": null,
      "outputs": []
    },
    {
      "cell_type": "markdown",
      "metadata": {
        "id": "p-eGhaE87JR1"
      },
      "source": [
        "Once the classifier has been trained (fitted), we can get the coefficient values.\n",
        "\n",
        "We had 784 features - one for each pixel - so we will have 784 coefficients.\n",
        "Furthermore, we have 10 classes, so we will have a vector of 784 coefficients for each of the 10 classes.\n",
        "\n",
        "Therefore, our coefficient matrix has 10 rows and 784 columns:"
      ]
    },
    {
      "cell_type": "code",
      "metadata": {
        "id": "BGbSnF8-7Acf"
      },
      "source": [
        "clf.coef_.shape"
      ],
      "execution_count": null,
      "outputs": []
    },
    {
      "cell_type": "markdown",
      "metadata": {
        "id": "FNed9Bu0EV7A"
      },
      "source": [
        "### Interpret the coefficients of the logistic regression"
      ]
    },
    {
      "cell_type": "markdown",
      "metadata": {
        "id": "oeDcs2qYEJZ0"
      },
      "source": [
        "One benefit of logistic regression is its interpretability - we can use the coefficient values to understand what features (i.e. which pixels) are important in determining what class a sample belongs to.\n",
        "\n"
      ]
    },
    {
      "cell_type": "markdown",
      "metadata": {
        "id": "hpvSc6e6FPXH"
      },
      "source": [
        "The following plot shows the coefficient vector for each class, with positive coefficients in blue and negative coefficients in red."
      ]
    },
    {
      "cell_type": "code",
      "metadata": {
        "id": "DObDtWt7EYof"
      },
      "source": [
        "scale = np.max(np.abs(clf.coef_))\n",
        "\n",
        "p = plt.figure(figsize=(25, 2.5));\n",
        "\n",
        "for i in range(nclasses):\n",
        "    p = plt.subplot(1, nclasses, i + 1)\n",
        "    p = plt.imshow(clf.coef_[i].reshape(28, 28),\n",
        "                  cmap=plt.cm.RdBu, vmin=-scale, vmax=scale);\n",
        "    p = plt.axis('off')\n",
        "    p = plt.title('Class %i' % i);"
      ],
      "execution_count": null,
      "outputs": []
    },
    {
      "cell_type": "markdown",
      "metadata": {
        "id": "dYNMUdQ8FddT"
      },
      "source": [
        "We can see which pixels are positively associated with belonging to the class, and which pixels are negatively associated with belonging to the class.\n",
        "\n",
        "For example, consider Class 0. If a sample has large values in the pixels shown in blue (the 0 shape around the center of the image), the probability of that sample being a 0 digit increases. If the sample has large values in the pixels in the center of the image, the probability of the sample being a 0 digit decreases.\n",
        "\n",
        "Many pixels have coefficients whose magnitude are very small. These are shown in white, and they are not very important for this classification task."
      ]
    },
    {
      "cell_type": "markdown",
      "metadata": {
        "id": "-z3gvz52DxNW"
      },
      "source": [
        "### Use a fitted logistic regression"
      ]
    },
    {
      "cell_type": "markdown",
      "metadata": {
        "id": "TJONzE1z7ppN"
      },
      "source": [
        "Given the coefficient matrix, we can get the per-class probability for any sample."
      ]
    },
    {
      "cell_type": "markdown",
      "metadata": {
        "id": "7gi_4YewMdlH"
      },
      "source": [
        "\n",
        "We know that for logistic regression with the softmax function, the conditional probability of a sample belonging to class $k$ is given by:\n",
        "\n",
        "$$P(y=k | \\mathbf{x}) = \\frac{e^{z_k}}{\\sum_{\\ell=1}^K e^{z_\\ell}}$$\n",
        "\n",
        "where $z_{k} = w_k x$.\n",
        "\n",
        "($w_k$ is the weight vector for class $k$, and $x$ includes a 1s column so that the intercept can be included in the weight matrix.)"
      ]
    },
    {
      "cell_type": "markdown",
      "metadata": {
        "id": "UjRjfTh5-Eq9"
      },
      "source": [
        "As an example, let's look at a specific test sample:"
      ]
    },
    {
      "cell_type": "code",
      "metadata": {
        "id": "7qLrv8qp3f0b"
      },
      "source": [
        "sample_idx = 33"
      ],
      "execution_count": null,
      "outputs": []
    },
    {
      "cell_type": "code",
      "metadata": {
        "id": "Shvlboua-Ie0"
      },
      "source": [
        "plt.imshow(X_test_scaled[sample_idx].reshape(28,28), cmap='gray');\n",
        "plt.title('Label: %s\\n' % y_test[sample_idx]);\n",
        "plt.axis('off');"
      ],
      "execution_count": null,
      "outputs": []
    },
    {
      "cell_type": "markdown",
      "metadata": {
        "id": "kmrx0UkZ-L8Z"
      },
      "source": [
        "We'll compute $z_k$ for each class $k$:"
      ]
    },
    {
      "cell_type": "code",
      "metadata": {
        "id": "4B6P187r-Klw"
      },
      "source": [
        "z = [ clf.intercept_[k] + np.dot(clf.coef_[k], X_test_scaled[sample_idx]) for k in range(10) ]\n",
        "z"
      ],
      "execution_count": null,
      "outputs": []
    },
    {
      "cell_type": "markdown",
      "metadata": {
        "id": "n1CnslxH_gRR"
      },
      "source": [
        "Then, we can compute the conditional probability for each class, for this sample:\n"
      ]
    },
    {
      "cell_type": "code",
      "metadata": {
        "id": "CkBhymXZ_lR6"
      },
      "source": [
        "exps = [np.exp(z[k]) for k in range(10)]\n",
        "exps_sum = np.sum(exps)\n",
        "probs = exps/exps_sum\n",
        "probs"
      ],
      "execution_count": null,
      "outputs": []
    },
    {
      "cell_type": "markdown",
      "metadata": {
        "id": "E2i98OQodpY0"
      },
      "source": [
        "Here, the first entry is the probability of belonging to class 0 (i.e. having the label '0'), the second entry is the probability of belonging to class 1, etc.\n"
      ]
    },
    {
      "cell_type": "code",
      "metadata": {
        "id": "vrrXsfF4dyBL"
      },
      "source": [
        "sns.barplot(x=np.arange(0,10), y=probs);\n",
        "plt.ylabel(\"Probability\");\n",
        "plt.xlabel(\"Class\");"
      ],
      "execution_count": null,
      "outputs": []
    },
    {
      "cell_type": "markdown",
      "metadata": {
        "id": "iJtWy58eAZRY"
      },
      "source": [
        "In general, to get the predicted *label*, we can find the class with the highest probability:"
      ]
    },
    {
      "cell_type": "code",
      "metadata": {
        "id": "Ci1rmbWNAbFe"
      },
      "source": [
        "idx_cls = np.argmax(probs)\n",
        "classes[idx_cls]"
      ],
      "execution_count": null,
      "outputs": []
    },
    {
      "cell_type": "markdown",
      "metadata": {
        "id": "cE4EOds9A8XH"
      },
      "source": [
        "*If* this matches the actual label for the first test sample, then our prediction is correct.\n",
        "\n"
      ]
    },
    {
      "cell_type": "code",
      "metadata": {
        "id": "ChJyDGCZA9y8"
      },
      "source": [
        "y_test[sample_idx]"
      ],
      "execution_count": null,
      "outputs": []
    },
    {
      "cell_type": "markdown",
      "metadata": {
        "id": "d0vrxw3l-EEX"
      },
      "source": [
        "The `LogisticRegression` implementation in `sklearn` includes functions to compute both the per-class probability, and the most likely label."
      ]
    },
    {
      "cell_type": "markdown",
      "metadata": {
        "id": "ayAIMbAvDuWe"
      },
      "source": [
        "We can use the `predict_proba` function on the logistic regression to get these probabilities. For each sample, it returns 10 probabilities - one for each of the ten classes (i.e. each value of $k$).\n"
      ]
    },
    {
      "cell_type": "code",
      "metadata": {
        "id": "e-cHusqIMcAH"
      },
      "source": [
        "y_pred_prob = clf.predict_proba(X_test_scaled)"
      ],
      "execution_count": null,
      "outputs": []
    },
    {
      "cell_type": "markdown",
      "metadata": {
        "id": "7LfJeSWL6cho"
      },
      "source": [
        "Let's look at our example test point, and compare to our own computations:"
      ]
    },
    {
      "cell_type": "code",
      "metadata": {
        "id": "__tm5hlT6eII"
      },
      "source": [
        "y_pred_prob[sample_idx]"
      ],
      "execution_count": null,
      "outputs": []
    },
    {
      "cell_type": "markdown",
      "metadata": {
        "id": "W2jA1gqQ6RvO"
      },
      "source": [
        "We use the `predict` function to predict a label for each sample in the test set. This will return the class label with the highest probability.\n",
        "\n",
        "For our test sample, the prediction is:\n"
      ]
    },
    {
      "cell_type": "code",
      "metadata": {
        "id": "NW37yVuk6VkQ"
      },
      "source": [
        "y_pred = clf.predict(X_test_scaled)"
      ],
      "execution_count": null,
      "outputs": []
    },
    {
      "cell_type": "code",
      "metadata": {
        "id": "uAzRI0lw34O7"
      },
      "source": [
        "y_pred[sample_idx]"
      ],
      "execution_count": null,
      "outputs": []
    },
    {
      "cell_type": "markdown",
      "metadata": {
        "id": "gNdF-7eqHa8M"
      },
      "source": [
        "and the true value is:\n"
      ]
    },
    {
      "cell_type": "code",
      "metadata": {
        "id": "sL6xiDtCHdCO"
      },
      "source": [
        "y_test[sample_idx]"
      ],
      "execution_count": null,
      "outputs": []
    },
    {
      "cell_type": "markdown",
      "metadata": {
        "id": "HKYudFcd7Jv9"
      },
      "source": [
        "### Evaluate classifier performance"
      ]
    },
    {
      "cell_type": "markdown",
      "metadata": {
        "id": "nfHDYxAN5q70"
      },
      "source": [
        "The first important metric is the accuracy - what percent of predicted labels are the same as the true labels?"
      ]
    },
    {
      "cell_type": "markdown",
      "metadata": {
        "id": "gQWOPjwQIgoB"
      },
      "source": [
        "There are a few ways to compute this value -"
      ]
    },
    {
      "cell_type": "code",
      "metadata": {
        "id": "rdopT_N5Ii4S"
      },
      "source": [
        "accuracy =  np.mean(y_test == y_pred)\n",
        "print(accuracy)"
      ],
      "execution_count": null,
      "outputs": []
    },
    {
      "cell_type": "code",
      "metadata": {
        "id": "71hRW4r_Iyno"
      },
      "source": [
        "accuracy = accuracy_score(y_test, y_pred)\n",
        "print(accuracy)"
      ],
      "execution_count": null,
      "outputs": []
    },
    {
      "cell_type": "code",
      "metadata": {
        "id": "mcP6xF5a5vd6"
      },
      "source": [
        "accuracy = clf.score(X_test_scaled, y_test)\n",
        "print(accuracy)"
      ],
      "execution_count": null,
      "outputs": []
    },
    {
      "cell_type": "markdown",
      "metadata": {
        "id": "ums9bsg1JMh7"
      },
      "source": [
        "What about other important metrics?\n",
        "\n",
        "For a binary classifier, we also care about\n",
        "\n",
        "* The number of true positive (TP) outputs - samples from the positive class that are predicted as positive\n",
        "* The number of true negative (TN) outputs - samples from the negative class that are predicted as negative\n",
        "* The number of false positive (FP) outputs - samples from the negative class that are predicted as positive, and\n",
        "* The number of false negative (FN) outputs - samples from the positive class that are predicted as negative.\n",
        "\n"
      ]
    },
    {
      "cell_type": "markdown",
      "metadata": {
        "id": "TK2jQigvJp5J"
      },
      "source": [
        "These are often presented together in a confusion matrix."
      ]
    },
    {
      "cell_type": "markdown",
      "metadata": {
        "id": "M8JiiQO-KdUO"
      },
      "source": [
        "For a multi-class problem, we can extend the confusion matrix to have more rows and columns. The diagonal of the multi-class confusion matrix shows the number of correct classifications for each class, and other entries show instances where a sample from one class was mistakenly assigned a different class label."
      ]
    },
    {
      "cell_type": "markdown",
      "metadata": {
        "id": "3iEbM7ZPK3S9"
      },
      "source": [
        "We can create a confusion matrix using the `pandas` library's `crosstab` function."
      ]
    },
    {
      "cell_type": "code",
      "metadata": {
        "id": "kPwtkRnJK_mK"
      },
      "source": [
        "cm = pd.crosstab(y_test, y_pred,\n",
        "                               rownames=['Actual'], colnames=['Predicted'])\n",
        "p = plt.figure(figsize=(10,10));\n",
        "p = sns.heatmap(cm, annot=True, fmt=\"d\", cbar=False)"
      ],
      "execution_count": null,
      "outputs": []
    },
    {
      "cell_type": "markdown",
      "metadata": {
        "id": "x-DHLwhULNS9"
      },
      "source": [
        "Here's a version that is slightly easier to interpret - we have normalized the confusion matrix by row, so that the entries on the diagonal show the accuracy per class."
      ]
    },
    {
      "cell_type": "code",
      "metadata": {
        "id": "AXTh-WDhLY8B"
      },
      "source": [
        "cm = pd.crosstab(y_test, y_pred,\n",
        "                               rownames=['Actual'], colnames=['Predicted'], normalize='index')\n",
        "p = plt.figure(figsize=(10,10));\n",
        "p = sns.heatmap(cm, annot=True, fmt=\".2f\", cbar=False)"
      ],
      "execution_count": null,
      "outputs": []
    },
    {
      "cell_type": "markdown",
      "metadata": {
        "id": "_b1yvua7LLf4"
      },
      "source": [
        "We can see that the digits 0, 1, 4 are easiest for the logistic regression to classify, while the digits 8, 5, 2, and 3 are more difficult (because the classification accuracay was less for these digits).\n",
        "\n",
        "We can also see which digits are easily confused with one another. For example, we can see that some 8s are misclassified as 1s, and some 5s are misclassified as 8s."
      ]
    }
  ]
}