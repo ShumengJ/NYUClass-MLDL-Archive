{
  "nbformat": 4,
  "nbformat_minor": 0,
  "metadata": {
    "colab": {
      "provenance": [],
      "include_colab_link": true
    },
    "kernelspec": {
      "display_name": "Python 3",
      "name": "python3"
    }
  },
  "cells": [
    {
      "cell_type": "markdown",
      "metadata": {
        "id": "view-in-github",
        "colab_type": "text"
      },
      "source": [
        "<a href=\"https://colab.research.google.com/github/ShumengJ/ECEGY6143-ML-Archive/blob/main/7_neural_net_demo_draw.ipynb\" target=\"_parent\"><img src=\"https://colab.research.google.com/assets/colab-badge.svg\" alt=\"Open In Colab\"/></a>"
      ]
    },
    {
      "cell_type": "markdown",
      "metadata": {
        "id": "scbZebP6xeT2"
      },
      "source": [
        "# Demo: Neural network for classification\n",
        "\n",
        "---\n",
        "\n",
        "\n",
        "\n",
        "_Fraida Fund_\n"
      ]
    },
    {
      "cell_type": "markdown",
      "metadata": {
        "id": "aPNH6CWX2zpM"
      },
      "source": [
        "_<small>Attribution: Some parts of this notebook are written by Sundeep Rangan, from his [IntroML GitHub repo](https://github.com/sdrangan/introml/).</small>_"
      ]
    },
    {
      "cell_type": "markdown",
      "metadata": {
        "id": "YiRSo6w3xjec"
      },
      "source": [
        "We previously considered a general approach to learning a non-linear function of the input data: we can supply a non-linear data representation, by applying a non-linear transformation to the input data, or specifying a non-linear kernel. Then, the machine learning model learns from the transformed data.\n",
        "\n",
        "The power of neural networks is their ability to *learn* a \"transformation\", rather than having to specify it ourselves! In this demo, we will see how."
      ]
    },
    {
      "cell_type": "markdown",
      "metadata": {
        "id": "OEpPhs0uxqNH"
      },
      "source": [
        "## Draw a classification problem"
      ]
    },
    {
      "cell_type": "markdown",
      "metadata": {
        "id": "w9NA1QDngszR"
      },
      "source": [
        "In the following cell, draw on the canvas to fill in the region of the feature space that should be part of the positive class."
      ]
    },
    {
      "cell_type": "code",
      "metadata": {
        "id": "jk0Cb9BbC3Sz",
        "cellView": "form",
        "colab": {
          "base_uri": "https://localhost:8080/",
          "height": 232
        },
        "outputId": "d00cbadd-c2d4-41d4-dc82-2d43209ed122"
      },
      "source": [
        "#@title ### Colab drawing magic\n",
        "# colab drawing magic via\n",
        "# https://gist.github.com/korakot/8409b3feec20f159d8a50b0a811d3bca\n",
        "from IPython.display import HTML, Image\n",
        "from google.colab.output import eval_js\n",
        "from base64 import b64decode\n",
        "\n",
        "canvas_html = \"\"\"\n",
        "<canvas width=%d height=%d style='border:1px solid #000000;'></canvas>\n",
        "<button>Finish</button>\n",
        "<script>\n",
        "var canvas = document.querySelector('canvas')\n",
        "var ctx = canvas.getContext('2d')\n",
        "ctx.lineWidth = %d\n",
        "var button = document.querySelector('button')\n",
        "var mouse = {x: 0, y: 0}\n",
        "\n",
        "canvas.addEventListener('mousemove', function(e) {\n",
        "  mouse.x = e.pageX - this.offsetLeft\n",
        "  mouse.y = e.pageY - this.offsetTop\n",
        "})\n",
        "canvas.onmousedown = ()=>{\n",
        "  ctx.beginPath()\n",
        "  ctx.moveTo(mouse.x, mouse.y)\n",
        "  canvas.addEventListener('mousemove', onPaint)\n",
        "}\n",
        "canvas.onmouseup = ()=>{\n",
        "  canvas.removeEventListener('mousemove', onPaint)\n",
        "}\n",
        "var onPaint = ()=>{\n",
        "  ctx.lineTo(mouse.x, mouse.y)\n",
        "  ctx.stroke()\n",
        "}\n",
        "\n",
        "var data = new Promise(resolve=>{\n",
        "  button.onclick = ()=>{\n",
        "    resolve(canvas.toDataURL('image/png'))\n",
        "  }\n",
        "})\n",
        "</script>\n",
        "\"\"\"\n",
        "\n",
        "def draw(filename='drawing.png', w=256, h=256, line_width=10):\n",
        "  display(HTML(canvas_html % (w, h, line_width)))\n",
        "  data = eval_js(\"data\")\n",
        "  binary = b64decode(data.split(',')[1])\n",
        "  with open(filename, 'wb') as f:\n",
        "    f.write(binary)"
      ],
      "execution_count": null,
      "outputs": [
        {
          "output_type": "error",
          "ename": "ModuleNotFoundError",
          "evalue": "ignored",
          "traceback": [
            "\u001b[0;31m---------------------------------------------------------------------------\u001b[0m",
            "\u001b[0;31mModuleNotFoundError\u001b[0m                       Traceback (most recent call last)",
            "\u001b[0;32m<ipython-input-1-faf33102fdd2>\u001b[0m in \u001b[0;36m<module>\u001b[0;34m\u001b[0m\n\u001b[1;32m      3\u001b[0m \u001b[0;31m# https://gist.github.com/korakot/8409b3feec20f159d8a50b0a811d3bca\u001b[0m\u001b[0;34m\u001b[0m\u001b[0;34m\u001b[0m\u001b[0;34m\u001b[0m\u001b[0m\n\u001b[1;32m      4\u001b[0m \u001b[0;32mfrom\u001b[0m \u001b[0mIPython\u001b[0m\u001b[0;34m.\u001b[0m\u001b[0mdisplay\u001b[0m \u001b[0;32mimport\u001b[0m \u001b[0mHTML\u001b[0m\u001b[0;34m,\u001b[0m \u001b[0mImage\u001b[0m\u001b[0;34m\u001b[0m\u001b[0;34m\u001b[0m\u001b[0m\n\u001b[0;32m----> 5\u001b[0;31m \u001b[0;32mfrom\u001b[0m \u001b[0mgoogle\u001b[0m\u001b[0;34m.\u001b[0m\u001b[0mcolab\u001b[0m\u001b[0;34m.\u001b[0m\u001b[0moutput\u001b[0m \u001b[0;32mimport\u001b[0m \u001b[0meval_js\u001b[0m\u001b[0;34m\u001b[0m\u001b[0;34m\u001b[0m\u001b[0m\n\u001b[0m\u001b[1;32m      6\u001b[0m \u001b[0;32mfrom\u001b[0m \u001b[0mbase64\u001b[0m \u001b[0;32mimport\u001b[0m \u001b[0mb64decode\u001b[0m\u001b[0;34m\u001b[0m\u001b[0;34m\u001b[0m\u001b[0m\n\u001b[1;32m      7\u001b[0m \u001b[0;34m\u001b[0m\u001b[0m\n",
            "\u001b[0;31mModuleNotFoundError\u001b[0m: No module named 'google.colab'"
          ]
        }
      ]
    },
    {
      "cell_type": "code",
      "metadata": {
        "id": "tDkD-ocIDJii"
      },
      "source": [
        "draw()"
      ],
      "execution_count": null,
      "outputs": []
    },
    {
      "cell_type": "code",
      "metadata": {
        "id": "syKQfTPSEoee"
      },
      "source": [
        "from PIL import Image\n",
        "import numpy as np\n",
        "im = Image.open(\"drawing.png\")\n",
        "np_im = np.array(im)\n",
        "print(np_im.shape)"
      ],
      "execution_count": null,
      "outputs": []
    },
    {
      "cell_type": "code",
      "metadata": {
        "id": "XO2QJFKh0yRD"
      },
      "source": [
        "np_im_bw = np_im[:,:,3]"
      ],
      "execution_count": null,
      "outputs": []
    },
    {
      "cell_type": "code",
      "metadata": {
        "id": "8JIASL4MFSSh"
      },
      "source": [
        "import matplotlib.pyplot as plt\n",
        "\n",
        "plt.imshow(np_im_bw, cmap='binary');\n",
        "plt.xlim(0,255);\n",
        "plt.ylim(255,0);\n",
        "plt.xlabel('x1');\n",
        "plt.ylabel('x2');"
      ],
      "execution_count": null,
      "outputs": []
    },
    {
      "cell_type": "markdown",
      "metadata": {
        "id": "D1KgUEGloNh4"
      },
      "source": [
        "## Get training, validation, and test data"
      ]
    },
    {
      "cell_type": "code",
      "metadata": {
        "id": "j4-HiS-_oO1c"
      },
      "source": [
        "n_train = 5000\n",
        "n_val   = 1000\n",
        "n_test  = 10000\n",
        "\n",
        "X_train = np.column_stack((np.random.randint(0, np_im_bw.shape[0], size=n_train), np.random.randint(0, np_im_bw.shape[1], size=n_train)))\n",
        "y_train = np.rot90(np_im_bw, k=3)[X_train[:,0], X_train[:,1]]\n",
        "\n",
        "X_train = X_train/255.0\n",
        "y_train = y_train/255.0\n",
        "\n",
        "\n",
        "X_val = np.column_stack((np.random.randint(0, np_im_bw.shape[0], size=n_val), np.random.randint(0, np_im_bw.shape[1], size=n_val)))\n",
        "y_val = np.rot90(np_im_bw, k=3)[X_val[:,0], X_val[:,1]]\n",
        "\n",
        "X_val = X_val/255.0\n",
        "y_val = y_val/255.0\n",
        "\n",
        "\n",
        "X_test = np.column_stack((np.random.randint(0, np_im_bw.shape[0], size=n_test), np.random.randint(0, np_im_bw.shape[1], size=n_test)))\n",
        "y_test = np.rot90(np_im_bw, k=3)[X_test[:,0], X_test[:,1]]\n",
        "\n",
        "X_test = X_test/255.0\n",
        "y_test = y_test/255.0"
      ],
      "execution_count": null,
      "outputs": []
    },
    {
      "cell_type": "code",
      "metadata": {
        "id": "kkGqRj6UZmG4"
      },
      "source": [
        "import seaborn as sns\n",
        "\n",
        "plt.scatter(x=X_train[:,0], y=X_train[:,1], c=y_train, cmap='binary', edgecolors= \"gray\")\n",
        "plt.xlabel(\"x1\");\n",
        "plt.ylabel(\"x2\");\n",
        "plt.title(\"Training data\");"
      ],
      "execution_count": null,
      "outputs": []
    },
    {
      "cell_type": "markdown",
      "metadata": {
        "id": "4d4cVmtEHP8l"
      },
      "source": [
        "## Import Tensorflow + Keras"
      ]
    },
    {
      "cell_type": "markdown",
      "metadata": {
        "id": "CCFBvC8F4d7C"
      },
      "source": [
        "\n",
        "For this demo, we will use Tensorflow with Keras to train and configure a neural network.\n",
        "\n",
        "\n",
        "\n",
        "Tensorflow is a powerful and widely-used platform for deep learning.  However, Tensorflow is relatively low level and may be somewhat difficult to use as a starting point.  We will use the `keras` package which acts as a high-level wrapper on top of tensorflow that allows you to quickly build and fit models.  \n",
        "\n",
        "(A very popular alternative to Tensorflow for working with neural networks is PyTorch - you can read more about PyTorch [here](https://pytorch.org/).)\n",
        "\n"
      ]
    },
    {
      "cell_type": "markdown",
      "metadata": {
        "id": "SY8PidNE4giR"
      },
      "source": [
        "First we import Tensorflow."
      ]
    },
    {
      "cell_type": "code",
      "metadata": {
        "id": "_lwv64HgHSjv"
      },
      "source": [
        "import tensorflow as tf\n",
        "print(tf.__version__)"
      ],
      "execution_count": null,
      "outputs": []
    },
    {
      "cell_type": "markdown",
      "metadata": {
        "id": "IqL5mG-I4g5x"
      },
      "source": [
        "(There are two major versions of Tensorflow. Code that was written for TF1 often will not run with TF2. Fortunately, you can load either version in Colab, as described [here](https://colab.research.google.com/notebooks/tensorflow_version.ipynb).)"
      ]
    },
    {
      "cell_type": "markdown",
      "metadata": {
        "id": "uITeqJV6HhrP"
      },
      "source": [
        "## Create the neural network"
      ]
    },
    {
      "cell_type": "markdown",
      "metadata": {
        "id": "sXr7woCf4z_w"
      },
      "source": [
        "We will see if we can build a simple neural network classifier to learn the decision region that we drew above."
      ]
    },
    {
      "cell_type": "markdown",
      "metadata": {
        "id": "HZDU9kBH44VG"
      },
      "source": [
        "We first import some key sub-packages from `keras`."
      ]
    },
    {
      "cell_type": "code",
      "metadata": {
        "id": "rY0ZocQ7Hg2d"
      },
      "source": [
        "from tensorflow.keras.models import Model, Sequential\n",
        "from tensorflow.keras.layers import Dense, Activation"
      ],
      "execution_count": null,
      "outputs": []
    },
    {
      "cell_type": "markdown",
      "metadata": {
        "id": "0QaTA1e646Kj"
      },
      "source": [
        "Next, we clear the session.  This is not strictly necessary since we haven't computed anything yet, but it is good practice if you are going to train multiple \"temporary\" models in a row - it frees up memory associated with models that are no longer in scope."
      ]
    },
    {
      "cell_type": "code",
      "metadata": {
        "id": "_9H8MW9gHoa5"
      },
      "source": [
        "import tensorflow.keras.backend as K\n",
        "K.clear_session()"
      ],
      "execution_count": null,
      "outputs": []
    },
    {
      "cell_type": "markdown",
      "metadata": {
        "id": "ZaTKZpyv5DcC"
      },
      "source": [
        "Now we create a very simple network.\n",
        "\n",
        "The neural network has `nin=2` input units, corresponding to the two features.\n",
        "\n",
        "It has one hidden layer with `nh=4` hidden units.  Each hidden unit will use a sigmoid activation function.\n",
        "\n",
        "There is `nout=1` output unit corresponding to the estimated class label. This unit will also have a sigmoid activation function.\n",
        "\n",
        "<small>Reference: [TF+keras activations](https://www.tensorflow.org/api_docs/python/tf/keras/activations).</small>\n",
        "\n"
      ]
    },
    {
      "cell_type": "markdown",
      "metadata": {
        "id": "tJZlyt4Z8ADO"
      },
      "source": [
        "All of the layers are *dense* or *fully connected* layers, meaning that each node has a link to every node in the adjacent layers.\n",
        "\n",
        "<small>Reference: [Keras layers](https://keras.io/api/layers/)</small>"
      ]
    },
    {
      "cell_type": "code",
      "metadata": {
        "id": "8YPt_P44HrX9"
      },
      "source": [
        "nin = 2  # dimension of input data\n",
        "nh = 4  # number of hidden units\n",
        "nout = 1  # number of outputs = 1 since this is binary\n",
        "model = Sequential()\n",
        "model.add(Dense(units=nh, input_shape=(nin,), activation='sigmoid', name='hidden'))\n",
        "model.add(Dense(units=nout, activation='sigmoid', name='output'))"
      ],
      "execution_count": null,
      "outputs": []
    },
    {
      "cell_type": "markdown",
      "metadata": {
        "id": "xNBsGc-6-YPm"
      },
      "source": [
        "In our visualization of the network architechture, we will also add a _bias node_ at each layer. This simplifies the computation of weights by adding an extra input whose value is always 1. The bias term then comes from the weight applied to that input."
      ]
    },
    {
      "cell_type": "code",
      "metadata": {
        "id": "GRp7PO3GswLI",
        "cellView": "form"
      },
      "source": [
        "#@title Visualize the network architecture\n",
        "\n",
        "import networkx as nx\n",
        "\n",
        "inputLayerSize  = nin\n",
        "outputLayerSize = nout\n",
        "hiddenLayerSize = nh\n",
        "\n",
        "\n",
        "nodePos = {}\n",
        "G=nx.Graph()\n",
        "graphHeight = max(inputLayerSize, outputLayerSize, hiddenLayerSize)\n",
        "\n",
        "# create nodes and note their positions\n",
        "for n in range(inputLayerSize):\n",
        "  nodePos['x'+str(n+1)]=(1, n)\n",
        "  G.add_node('x'+str(n+1))\n",
        "for n in range(outputLayerSize):\n",
        "  nodePos['o'+str(n+1)]=(5, n)\n",
        "  G.add_node('o'+str(n+1))\n",
        "for n in range(hiddenLayerSize):\n",
        "  nodePos['h'+str(n+1)]=(3, n)\n",
        "  G.add_node('h'+str(n+1))\n",
        "\n",
        "# add edges\n",
        "for n in range(hiddenLayerSize):\n",
        "  for m in range(inputLayerSize):\n",
        "    G.add_edge('x' + str(m+1), 'h' + str(n+1))\n",
        "  for m in range(outputLayerSize):\n",
        "    G.add_edge('h' + str(n+1), 'o' + str(m+1))\n",
        "\n",
        "# add bias nodes\n",
        "\n",
        "nodePos['xb']=(1, inputLayerSize)\n",
        "G.add_node('xb')\n",
        "for n in range(hiddenLayerSize):\n",
        "  G.add_edge('xb', 'h' + str(n+1))\n",
        "\n",
        "nodePos['hb']=(3, hiddenLayerSize)\n",
        "G.add_node('hb')\n",
        "for n in range(outputLayerSize):\n",
        "  G.add_edge('hb', 'o' + str(n+1))\n",
        "\n",
        "nx.draw_networkx(G, pos=nodePos,\n",
        "              node_size=1000, node_color='pink')\n",
        "plt.axis('off');\n",
        "plt.margins(0.2, 0.2);\n"
      ],
      "execution_count": null,
      "outputs": []
    },
    {
      "cell_type": "markdown",
      "metadata": {
        "id": "HH01TJ48-id1"
      },
      "source": [
        "Each node in the neural network applies its activation function to the weighted sum of its inputs, then passes that as output to the nodes in the next layer.\n",
        "\n",
        "The neural network needs to learn a weight for each link in the image above (including the weights for the bias nodes)."
      ]
    },
    {
      "cell_type": "markdown",
      "metadata": {
        "id": "XGZgL0dv6uSb"
      },
      "source": [
        "Keras has a nice command for summarizing the network architecture:"
      ]
    },
    {
      "cell_type": "code",
      "metadata": {
        "id": "EdnRucolIgdI"
      },
      "source": [
        "model.summary()"
      ],
      "execution_count": null,
      "outputs": []
    },
    {
      "cell_type": "markdown",
      "metadata": {
        "id": "PC_iDIpl7SIl"
      },
      "source": [
        "Next, we have to select an optimizer and a loss function.  \n",
        "\n",
        "Since this is a binary classification problem, we select the `binary_crossentropy` loss.\n",
        "\n",
        "We will also choose an optimizer (Adam) and a learning rate of `learning_rate=0.01`.\n",
        "\n",
        "We also set the `metrics` that we wish to track during the optimization.  In this case, we select `accuracy` on the training set.\n",
        "\n",
        "Finally, before training, we must `compile` the model.\n",
        "\n",
        "\n",
        "<small>Reference: [TF+keras loss functions](https://www.tensorflow.org/api_docs/python/tf/keras/losses), [Keras optimizers](https://keras.io/api/optimizers/)</small>"
      ]
    },
    {
      "cell_type": "code",
      "metadata": {
        "id": "i8k4k0IZs7uo"
      },
      "source": [
        "from tensorflow.keras import optimizers\n",
        "\n",
        "opt = optimizers.Adam(learning_rate=0.01)\n",
        "model.compile(optimizer=opt,\n",
        "              loss='binary_crossentropy',\n",
        "              metrics=['accuracy'])"
      ],
      "execution_count": null,
      "outputs": []
    },
    {
      "cell_type": "markdown",
      "metadata": {
        "id": "Hn-e4HtPIjU6"
      },
      "source": [
        "## Train the neural network"
      ]
    },
    {
      "cell_type": "markdown",
      "metadata": {
        "id": "6CydBE5s6y4o"
      },
      "source": [
        "Keras provides a simple method `fit` to run the optimization.  You simply specify the number of epochs and the batch size.\n",
        "\n",
        "We will also pass it some `validation_data` - it will also compute the loss and accuracy on the validation data at each epoch.\n",
        "\n",
        "(During one epoch, we run as many iterations of mini-batch stochastic gradient descent as it takes to sample all the training data, without replacement.)"
      ]
    },
    {
      "cell_type": "code",
      "metadata": {
        "id": "BD0kx0-8Inyj"
      },
      "source": [
        "hist = model.fit(X_train, y_train, epochs=100, batch_size=24, validation_data=(X_val,y_val))"
      ],
      "execution_count": null,
      "outputs": []
    },
    {
      "cell_type": "markdown",
      "metadata": {
        "id": "7HDxtBW-9IPy"
      },
      "source": [
        "If you run the `fit` cell more than once, it will update the fit by running more gradient descent iterations - it won't start again from the beginning. However, it *will* overwrite your previous model \"history\" (i.e. the loss and accuracy per epoch from the last call to `fit`)."
      ]
    },
    {
      "cell_type": "markdown",
      "metadata": {
        "id": "QSY0ebpwqQcF"
      },
      "source": [
        "## Visualize output of network"
      ]
    },
    {
      "cell_type": "markdown",
      "metadata": {
        "id": "X2IWdupn9cSw"
      },
      "source": [
        "To see the classification rule our neural network learned, we can plot the predicted class probability over the input space.\n",
        "\n",
        "We can also plot the response in the each of the hidden units.  \n",
        "\n",
        "Each of the hidden units produces one linear decision region.  The final nonlinear region is then formed by taking a weighted combination of these regions."
      ]
    },
    {
      "cell_type": "code",
      "metadata": {
        "id": "SZRO7sejLIWo",
        "cellView": "form"
      },
      "source": [
        "#@title Visualize output of each unit\n",
        "\n",
        "# Prepare coordinate grid\n",
        "n_plot = 256\n",
        "xx1, xx2 = np.meshgrid(np.arange(0, n_plot, 1),np.arange(0, n_plot, 1))\n",
        "X_grid = np.hstack((xx1.reshape(n_plot**2,1), xx2.reshape(n_plot**2,1)))\n",
        "X_grid = X_grid/(n_plot-1.0)\n",
        "\n",
        "# Get the response in the hidden units\n",
        "layer_hid = model.get_layer('hidden')\n",
        "model1 = Model(inputs=model.input,\n",
        "               outputs=layer_hid.output)\n",
        "zhid_plot = model1.predict(X_grid)\n",
        "zhid_plot = zhid_plot.reshape((n_plot,n_plot,nh))\n",
        "\n",
        "# Get the weights in the output layer\n",
        "layer_out = model.get_layer('output')\n",
        "Wo, bo = layer_out.get_weights()\n",
        "\n",
        "# Get the response in the output layer\n",
        "yplot = model.predict(X_grid)\n",
        "yplot_mat = yplot[:,0].reshape((n_plot, n_plot))\n",
        "\n",
        "# Plot the output layer\n",
        "fig = plt.figure(figsize=(15, 6))\n",
        "plt.subplot(1,nh+1,1)\n",
        "plt.imshow(np.flipud((yplot_mat.reshape(n_plot, n_plot))), cmap='binary');\n",
        "plt.xlim(0, n_plot);\n",
        "plt.ylim(n_plot,0);\n",
        "plt.xticks([]);\n",
        "plt.yticks([]);\n",
        "plt.title(\"Output\")\n",
        "plt.xlim(0,n_plot);\n",
        "plt.ylim(n_plot, 0);\n",
        "\n",
        "# Plot the hidden layers\n",
        "for i in range(nh):\n",
        "\n",
        "    plt.subplot(1,nh+1,i+1+1)\n",
        "    zhid_ploti = (zhid_plot[:,:,i])\n",
        "    im = plt.imshow(zhid_ploti, vmin=0, vmax=1, cmap='binary')\n",
        "    im = plt.imshow(np.flipud((zhid_ploti)), cmap='binary');\n",
        "    plt.xticks([])\n",
        "    plt.yticks([])\n",
        "    plt.title('h{0:d}, Wo={1:4.2f}'.format(i+1,Wo[i,0]))\n",
        "    plt.xlim(0,n_plot);\n",
        "    plt.ylim(n_plot,0);\n",
        "\n",
        "fig.subplots_adjust(right=0.85)\n",
        "cbar_ax = fig.add_axes([0.9, 0.30, 0.05, 0.4])\n",
        "fig.colorbar(im, cax=cbar_ax);"
      ],
      "execution_count": null,
      "outputs": []
    },
    {
      "cell_type": "markdown",
      "metadata": {
        "id": "Hb2rixgj9zI7"
      },
      "source": [
        "We can also check all of the parameters learned by the network:"
      ]
    },
    {
      "cell_type": "code",
      "metadata": {
        "id": "BClwDMOS91y5"
      },
      "source": [
        "layer_hid = model.get_layer('hidden')\n",
        "Wh, bh = layer_hid.get_weights()\n",
        "print('Wh=')\n",
        "print(Wh)\n",
        "print('bh=')\n",
        "print(bh)\n",
        "\n",
        "layer_out = model.get_layer('output')\n",
        "Wo, bo = layer_out.get_weights()\n",
        "print('Wo=')\n",
        "print(Wo)\n",
        "print('bo=')\n",
        "print(bo)\n"
      ],
      "execution_count": null,
      "outputs": []
    },
    {
      "cell_type": "markdown",
      "metadata": {
        "id": "4N1bYEweOO8r"
      },
      "source": [
        "And, we can visualize the training progress vs. epoch:"
      ]
    },
    {
      "cell_type": "code",
      "metadata": {
        "id": "fM6s2qxkNnvp"
      },
      "source": [
        "import seaborn as sns\n",
        "\n",
        "plt.figure(figsize=(7,3))\n",
        "\n",
        "plt.subplot(1,2,1)\n",
        "train_acc = hist.history['accuracy'];\n",
        "val_acc = hist.history['val_accuracy'];\n",
        "\n",
        "nepochs = len(train_acc);\n",
        "sns.lineplot(x=np.arange(1,nepochs+1), y=train_acc, label='Training accuracy');\n",
        "sns.lineplot(x=np.arange(1,nepochs+1), y=val_acc, label='Validation accuracy');\n",
        "plt.xlabel('Epoch');\n",
        "plt.ylabel('Accuracy');\n",
        "\n",
        "plt.subplot(1,2,2)\n",
        "train_loss = hist.history['loss']\n",
        "val_loss = hist.history['val_loss']\n",
        "sns.lineplot(x=np.arange(1,nepochs+1), y=train_loss, label='Training loss');\n",
        "sns.lineplot(x=np.arange(1,nepochs+1), y=val_loss, label='Validation loss');\n",
        "plt.yscale('log')\n",
        "plt.xlabel('Epochs')\n",
        "plt.ylabel('Loss')\n",
        "plt.tight_layout()"
      ],
      "execution_count": null,
      "outputs": []
    },
    {
      "cell_type": "markdown",
      "metadata": {
        "id": "SnpJwG4EwSk9"
      },
      "source": [
        "## Measure performance on test set"
      ]
    },
    {
      "cell_type": "code",
      "metadata": {
        "id": "JXc8VVwkwU_Q"
      },
      "source": [
        "y_pred = model.predict(X_test)\n",
        "y_pred = np.round(y_pred).astype(int)\n",
        "y_pred = y_pred.squeeze()"
      ],
      "execution_count": null,
      "outputs": []
    },
    {
      "cell_type": "code",
      "metadata": {
        "id": "rDsxTWJ1xFnI"
      },
      "source": [
        "np.mean((y_pred == y_test).astype(int))"
      ],
      "execution_count": null,
      "outputs": []
    },
    {
      "cell_type": "code",
      "metadata": {
        "id": "761SzOvSf4Ap"
      },
      "source": [
        "plt.figure(figsize=(10,5))\n",
        "plt.subplot(1,2,1)\n",
        "plt.scatter(x=X_test[:,0], y=X_test[:,1], c=y_pred, cmap='binary', edgecolors= \"gray\")\n",
        "plt.xlabel(\"x1\");\n",
        "plt.ylabel(\"x2\");\n",
        "plt.title(\"Predictions for test data\");\n",
        "\n",
        "plt.subplot(1,2,2)\n",
        "plt.scatter(x=X_test[:,0], y=X_test[:,1], c=y_test, cmap='binary', edgecolors= \"gray\")\n",
        "plt.xlabel(\"x1\");\n",
        "plt.ylabel(\"x2\");\n",
        "plt.title(\"Actual test data\");"
      ],
      "execution_count": null,
      "outputs": []
    },
    {
      "cell_type": "markdown",
      "metadata": {
        "id": "G_1PF2bW-GuQ"
      },
      "source": [
        "## Things to try\n",
        "\n",
        "* What happens if we use `linear` activations, instead of sigmoid?\n",
        "* When do we need to use a large number of hidden units?\n",
        "* Try to adjust the learning rate and batch size. What is the effect?\n",
        "* What should you do if you want to train the model for a few more epochs? (What happens to your history when you do that?)\n",
        "* What should you do if you want to change the model architecture and train it from scratch?"
      ]
    }
  ]
}