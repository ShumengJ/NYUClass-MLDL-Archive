{
  "nbformat": 4,
  "nbformat_minor": 0,
  "metadata": {
    "colab": {
      "provenance": [],
      "include_colab_link": true
    },
    "kernelspec": {
      "name": "python3",
      "display_name": "Python 3"
    }
  },
  "cells": [
    {
      "cell_type": "markdown",
      "metadata": {
        "id": "view-in-github",
        "colab_type": "text"
      },
      "source": [
        "<a href=\"https://colab.research.google.com/github/ShumengJ/ECEGY6143-ML-Archive/blob/main/5_compas_case_study_live.ipynb\" target=\"_parent\"><img src=\"https://colab.research.google.com/assets/colab-badge.svg\" alt=\"Open In Colab\"/></a>"
      ]
    },
    {
      "cell_type": "markdown",
      "metadata": {
        "id": "mDfXllEOdseq"
      },
      "source": [
        "Case study: COMPAS and classifier fairness\n",
        "------------------\n",
        "\n",
        "![ProPublica headline](https://static.propublica.org/projects/algorithmic-bias/assets/img/generated/opener-b-crop-2400*1350-00796e.jpg)"
      ]
    },
    {
      "cell_type": "markdown",
      "metadata": {
        "id": "mJk2Oli4dsev"
      },
      "source": [
        "## About COMPAS\n",
        "\n",
        "COMPAS is a tool used in many jurisdictions around the U.S. to predict\n",
        "*recidivism* risk - the risk that a criminal defendant will reoffend.\n",
        "\n",
        "-   COMPAS assigns scores from 1 (lowest risk) to 10 (highest risk).\n",
        "-   It also assigns a class: each sample is labeled as high risk of recidivism, medium risk of recidivism, or low risk of recidivism. For this analysis, we turn it into a binary classification problem by re-labeling as medium or high risk of recidivism vs. low risk of recidivism.\n",
        "-   As input, the model uses 137 factors, including age, gender, and\n",
        "    criminal history of the defendant.\n",
        "-   Race is *not* an explicit feature considered by the model."
      ]
    },
    {
      "cell_type": "markdown",
      "metadata": {
        "id": "ToYKeOl4dsey"
      },
      "source": [
        "### Using COMPAS\n",
        "\n",
        "-   Judges can see the defendant’s COMPAS score when deciding whether to\n",
        "    detain the defendant prior to trial and/or when sentencing.\n",
        "-   Defendants who are classified medium or high risk (scores of 5-10),\n",
        "    are more likely to be held in prison while awaiting trial than those\n",
        "    classified as low risk (scores of 1-4)."
      ]
    },
    {
      "cell_type": "markdown",
      "metadata": {
        "id": "CDa2w7NTdse1"
      },
      "source": [
        "### ProPublica claims (1)\n",
        "\n",
        "> Prediction Fails Differently for Black Defendants\n",
        "\n",
        "|                                           | WHITE | AFRICAN AMERICAN |\n",
        "|-------------------------------------------|-------|------------------|\n",
        "| Labeled Higher Risk, But Didn’t Re-Offend | 23.5% | 44.9%            |\n",
        "| Labeled Lower Risk, Yet Did Re-Offend     | 47.7% | 28.0%            |"
      ]
    },
    {
      "cell_type": "markdown",
      "metadata": {
        "id": "NL90SGu3dse6"
      },
      "source": [
        "### ProPublica claims (2)\n",
        "\n",
        "> Overall, Northpointe’s assessment tool correctly predicts recidivism\n",
        "> 61 percent of the time. But blacks are almost twice as likely as\n",
        "> whites to be labeled a higher risk but not actually re-offend. It\n",
        "> makes the opposite mistake among whites: They are much more likely\n",
        "> than blacks to be labeled lower risk but go on to commit other crimes."
      ]
    },
    {
      "cell_type": "markdown",
      "metadata": {
        "id": "IIlQ__6udse8"
      },
      "source": [
        "## Replicating ProPublica analysis"
      ]
    },
    {
      "cell_type": "markdown",
      "metadata": {
        "id": "naCOME9Hdse_"
      },
      "source": [
        "------------------------------------------------------------------------"
      ]
    },
    {
      "cell_type": "code",
      "metadata": {
        "id": "ukB0dAeydsfC"
      },
      "source": [
        "%matplotlib inline\n",
        "from IPython.core.interactiveshell import InteractiveShell\n",
        "InteractiveShell.ast_node_interactivity = \"all\"\n",
        "\n",
        "import numpy as np\n",
        "import pandas as pd\n",
        "import matplotlib.pyplot as plt\n",
        "import seaborn as sns\n",
        "from sklearn.metrics import confusion_matrix"
      ],
      "execution_count": null,
      "outputs": []
    },
    {
      "cell_type": "markdown",
      "metadata": {
        "id": "oE0jnlCaNIg0"
      },
      "source": [
        "### Read in the data"
      ]
    },
    {
      "cell_type": "code",
      "metadata": {
        "id": "PycDYlSgdsfN"
      },
      "source": [
        "url = 'https://raw.githubusercontent.com/propublica/compas-analysis/master/compas-scores-two-years.csv'\n",
        "df = pd.read_csv(url)"
      ],
      "execution_count": null,
      "outputs": []
    },
    {
      "cell_type": "code",
      "metadata": {
        "id": "w23cVQ3XNAfe",
        "colab": {
          "base_uri": "https://localhost:8080/",
          "height": 1000
        },
        "outputId": "215d8f09-cd77-4206-df1f-8a9367510067"
      },
      "source": [
        "df.info()"
      ],
      "execution_count": null,
      "outputs": [
        {
          "output_type": "stream",
          "text": [
            "<class 'pandas.core.frame.DataFrame'>\n",
            "RangeIndex: 7214 entries, 0 to 7213\n",
            "Data columns (total 53 columns):\n",
            " #   Column                   Non-Null Count  Dtype  \n",
            "---  ------                   --------------  -----  \n",
            " 0   id                       7214 non-null   int64  \n",
            " 1   name                     7214 non-null   object \n",
            " 2   first                    7214 non-null   object \n",
            " 3   last                     7214 non-null   object \n",
            " 4   compas_screening_date    7214 non-null   object \n",
            " 5   sex                      7214 non-null   object \n",
            " 6   dob                      7214 non-null   object \n",
            " 7   age                      7214 non-null   int64  \n",
            " 8   age_cat                  7214 non-null   object \n",
            " 9   race                     7214 non-null   object \n",
            " 10  juv_fel_count            7214 non-null   int64  \n",
            " 11  decile_score             7214 non-null   int64  \n",
            " 12  juv_misd_count           7214 non-null   int64  \n",
            " 13  juv_other_count          7214 non-null   int64  \n",
            " 14  priors_count             7214 non-null   int64  \n",
            " 15  days_b_screening_arrest  6907 non-null   float64\n",
            " 16  c_jail_in                6907 non-null   object \n",
            " 17  c_jail_out               6907 non-null   object \n",
            " 18  c_case_number            7192 non-null   object \n",
            " 19  c_offense_date           6055 non-null   object \n",
            " 20  c_arrest_date            1137 non-null   object \n",
            " 21  c_days_from_compas       7192 non-null   float64\n",
            " 22  c_charge_degree          7214 non-null   object \n",
            " 23  c_charge_desc            7185 non-null   object \n",
            " 24  is_recid                 7214 non-null   int64  \n",
            " 25  r_case_number            3471 non-null   object \n",
            " 26  r_charge_degree          3471 non-null   object \n",
            " 27  r_days_from_arrest       2316 non-null   float64\n",
            " 28  r_offense_date           3471 non-null   object \n",
            " 29  r_charge_desc            3413 non-null   object \n",
            " 30  r_jail_in                2316 non-null   object \n",
            " 31  r_jail_out               2316 non-null   object \n",
            " 32  violent_recid            0 non-null      float64\n",
            " 33  is_violent_recid         7214 non-null   int64  \n",
            " 34  vr_case_number           819 non-null    object \n",
            " 35  vr_charge_degree         819 non-null    object \n",
            " 36  vr_offense_date          819 non-null    object \n",
            " 37  vr_charge_desc           819 non-null    object \n",
            " 38  type_of_assessment       7214 non-null   object \n",
            " 39  decile_score.1           7214 non-null   int64  \n",
            " 40  score_text               7214 non-null   object \n",
            " 41  screening_date           7214 non-null   object \n",
            " 42  v_type_of_assessment     7214 non-null   object \n",
            " 43  v_decile_score           7214 non-null   int64  \n",
            " 44  v_score_text             7214 non-null   object \n",
            " 45  v_screening_date         7214 non-null   object \n",
            " 46  in_custody               6978 non-null   object \n",
            " 47  out_custody              6978 non-null   object \n",
            " 48  priors_count.1           7214 non-null   int64  \n",
            " 49  start                    7214 non-null   int64  \n",
            " 50  end                      7214 non-null   int64  \n",
            " 51  event                    7214 non-null   int64  \n",
            " 52  two_year_recid           7214 non-null   int64  \n",
            "dtypes: float64(4), int64(16), object(33)\n",
            "memory usage: 2.9+ MB\n"
          ],
          "name": "stdout"
        }
      ]
    },
    {
      "cell_type": "code",
      "metadata": {
        "id": "5PF6_aRvdsfU",
        "colab": {
          "base_uri": "https://localhost:8080/",
          "height": 356
        },
        "outputId": "52d3b416-1ec0-40c5-d145-11db384d2a6a"
      },
      "source": [
        "df.head()"
      ],
      "execution_count": null,
      "outputs": [
        {
          "output_type": "execute_result",
          "data": {
            "text/html": [
              "<div>\n",
              "<style scoped>\n",
              "    .dataframe tbody tr th:only-of-type {\n",
              "        vertical-align: middle;\n",
              "    }\n",
              "\n",
              "    .dataframe tbody tr th {\n",
              "        vertical-align: top;\n",
              "    }\n",
              "\n",
              "    .dataframe thead th {\n",
              "        text-align: right;\n",
              "    }\n",
              "</style>\n",
              "<table border=\"1\" class=\"dataframe\">\n",
              "  <thead>\n",
              "    <tr style=\"text-align: right;\">\n",
              "      <th></th>\n",
              "      <th>id</th>\n",
              "      <th>name</th>\n",
              "      <th>first</th>\n",
              "      <th>last</th>\n",
              "      <th>compas_screening_date</th>\n",
              "      <th>sex</th>\n",
              "      <th>dob</th>\n",
              "      <th>age</th>\n",
              "      <th>age_cat</th>\n",
              "      <th>race</th>\n",
              "      <th>juv_fel_count</th>\n",
              "      <th>decile_score</th>\n",
              "      <th>juv_misd_count</th>\n",
              "      <th>juv_other_count</th>\n",
              "      <th>priors_count</th>\n",
              "      <th>days_b_screening_arrest</th>\n",
              "      <th>c_jail_in</th>\n",
              "      <th>c_jail_out</th>\n",
              "      <th>c_case_number</th>\n",
              "      <th>c_offense_date</th>\n",
              "      <th>c_arrest_date</th>\n",
              "      <th>c_days_from_compas</th>\n",
              "      <th>c_charge_degree</th>\n",
              "      <th>c_charge_desc</th>\n",
              "      <th>is_recid</th>\n",
              "      <th>r_case_number</th>\n",
              "      <th>r_charge_degree</th>\n",
              "      <th>r_days_from_arrest</th>\n",
              "      <th>r_offense_date</th>\n",
              "      <th>r_charge_desc</th>\n",
              "      <th>r_jail_in</th>\n",
              "      <th>r_jail_out</th>\n",
              "      <th>violent_recid</th>\n",
              "      <th>is_violent_recid</th>\n",
              "      <th>vr_case_number</th>\n",
              "      <th>vr_charge_degree</th>\n",
              "      <th>vr_offense_date</th>\n",
              "      <th>vr_charge_desc</th>\n",
              "      <th>type_of_assessment</th>\n",
              "      <th>decile_score.1</th>\n",
              "      <th>score_text</th>\n",
              "      <th>screening_date</th>\n",
              "      <th>v_type_of_assessment</th>\n",
              "      <th>v_decile_score</th>\n",
              "      <th>v_score_text</th>\n",
              "      <th>v_screening_date</th>\n",
              "      <th>in_custody</th>\n",
              "      <th>out_custody</th>\n",
              "      <th>priors_count.1</th>\n",
              "      <th>start</th>\n",
              "      <th>end</th>\n",
              "      <th>event</th>\n",
              "      <th>two_year_recid</th>\n",
              "    </tr>\n",
              "  </thead>\n",
              "  <tbody>\n",
              "    <tr>\n",
              "      <th>0</th>\n",
              "      <td>1</td>\n",
              "      <td>miguel hernandez</td>\n",
              "      <td>miguel</td>\n",
              "      <td>hernandez</td>\n",
              "      <td>2013-08-14</td>\n",
              "      <td>Male</td>\n",
              "      <td>1947-04-18</td>\n",
              "      <td>69</td>\n",
              "      <td>Greater than 45</td>\n",
              "      <td>Other</td>\n",
              "      <td>0</td>\n",
              "      <td>1</td>\n",
              "      <td>0</td>\n",
              "      <td>0</td>\n",
              "      <td>0</td>\n",
              "      <td>-1.0</td>\n",
              "      <td>2013-08-13 06:03:42</td>\n",
              "      <td>2013-08-14 05:41:20</td>\n",
              "      <td>13011352CF10A</td>\n",
              "      <td>2013-08-13</td>\n",
              "      <td>NaN</td>\n",
              "      <td>1.0</td>\n",
              "      <td>F</td>\n",
              "      <td>Aggravated Assault w/Firearm</td>\n",
              "      <td>0</td>\n",
              "      <td>NaN</td>\n",
              "      <td>NaN</td>\n",
              "      <td>NaN</td>\n",
              "      <td>NaN</td>\n",
              "      <td>NaN</td>\n",
              "      <td>NaN</td>\n",
              "      <td>NaN</td>\n",
              "      <td>NaN</td>\n",
              "      <td>0</td>\n",
              "      <td>NaN</td>\n",
              "      <td>NaN</td>\n",
              "      <td>NaN</td>\n",
              "      <td>NaN</td>\n",
              "      <td>Risk of Recidivism</td>\n",
              "      <td>1</td>\n",
              "      <td>Low</td>\n",
              "      <td>2013-08-14</td>\n",
              "      <td>Risk of Violence</td>\n",
              "      <td>1</td>\n",
              "      <td>Low</td>\n",
              "      <td>2013-08-14</td>\n",
              "      <td>2014-07-07</td>\n",
              "      <td>2014-07-14</td>\n",
              "      <td>0</td>\n",
              "      <td>0</td>\n",
              "      <td>327</td>\n",
              "      <td>0</td>\n",
              "      <td>0</td>\n",
              "    </tr>\n",
              "    <tr>\n",
              "      <th>1</th>\n",
              "      <td>3</td>\n",
              "      <td>kevon dixon</td>\n",
              "      <td>kevon</td>\n",
              "      <td>dixon</td>\n",
              "      <td>2013-01-27</td>\n",
              "      <td>Male</td>\n",
              "      <td>1982-01-22</td>\n",
              "      <td>34</td>\n",
              "      <td>25 - 45</td>\n",
              "      <td>African-American</td>\n",
              "      <td>0</td>\n",
              "      <td>3</td>\n",
              "      <td>0</td>\n",
              "      <td>0</td>\n",
              "      <td>0</td>\n",
              "      <td>-1.0</td>\n",
              "      <td>2013-01-26 03:45:27</td>\n",
              "      <td>2013-02-05 05:36:53</td>\n",
              "      <td>13001275CF10A</td>\n",
              "      <td>2013-01-26</td>\n",
              "      <td>NaN</td>\n",
              "      <td>1.0</td>\n",
              "      <td>F</td>\n",
              "      <td>Felony Battery w/Prior Convict</td>\n",
              "      <td>1</td>\n",
              "      <td>13009779CF10A</td>\n",
              "      <td>(F3)</td>\n",
              "      <td>NaN</td>\n",
              "      <td>2013-07-05</td>\n",
              "      <td>Felony Battery (Dom Strang)</td>\n",
              "      <td>NaN</td>\n",
              "      <td>NaN</td>\n",
              "      <td>NaN</td>\n",
              "      <td>1</td>\n",
              "      <td>13009779CF10A</td>\n",
              "      <td>(F3)</td>\n",
              "      <td>2013-07-05</td>\n",
              "      <td>Felony Battery (Dom Strang)</td>\n",
              "      <td>Risk of Recidivism</td>\n",
              "      <td>3</td>\n",
              "      <td>Low</td>\n",
              "      <td>2013-01-27</td>\n",
              "      <td>Risk of Violence</td>\n",
              "      <td>1</td>\n",
              "      <td>Low</td>\n",
              "      <td>2013-01-27</td>\n",
              "      <td>2013-01-26</td>\n",
              "      <td>2013-02-05</td>\n",
              "      <td>0</td>\n",
              "      <td>9</td>\n",
              "      <td>159</td>\n",
              "      <td>1</td>\n",
              "      <td>1</td>\n",
              "    </tr>\n",
              "    <tr>\n",
              "      <th>2</th>\n",
              "      <td>4</td>\n",
              "      <td>ed philo</td>\n",
              "      <td>ed</td>\n",
              "      <td>philo</td>\n",
              "      <td>2013-04-14</td>\n",
              "      <td>Male</td>\n",
              "      <td>1991-05-14</td>\n",
              "      <td>24</td>\n",
              "      <td>Less than 25</td>\n",
              "      <td>African-American</td>\n",
              "      <td>0</td>\n",
              "      <td>4</td>\n",
              "      <td>0</td>\n",
              "      <td>1</td>\n",
              "      <td>4</td>\n",
              "      <td>-1.0</td>\n",
              "      <td>2013-04-13 04:58:34</td>\n",
              "      <td>2013-04-14 07:02:04</td>\n",
              "      <td>13005330CF10A</td>\n",
              "      <td>2013-04-13</td>\n",
              "      <td>NaN</td>\n",
              "      <td>1.0</td>\n",
              "      <td>F</td>\n",
              "      <td>Possession of Cocaine</td>\n",
              "      <td>1</td>\n",
              "      <td>13011511MM10A</td>\n",
              "      <td>(M1)</td>\n",
              "      <td>0.0</td>\n",
              "      <td>2013-06-16</td>\n",
              "      <td>Driving Under The Influence</td>\n",
              "      <td>2013-06-16</td>\n",
              "      <td>2013-06-16</td>\n",
              "      <td>NaN</td>\n",
              "      <td>0</td>\n",
              "      <td>NaN</td>\n",
              "      <td>NaN</td>\n",
              "      <td>NaN</td>\n",
              "      <td>NaN</td>\n",
              "      <td>Risk of Recidivism</td>\n",
              "      <td>4</td>\n",
              "      <td>Low</td>\n",
              "      <td>2013-04-14</td>\n",
              "      <td>Risk of Violence</td>\n",
              "      <td>3</td>\n",
              "      <td>Low</td>\n",
              "      <td>2013-04-14</td>\n",
              "      <td>2013-06-16</td>\n",
              "      <td>2013-06-16</td>\n",
              "      <td>4</td>\n",
              "      <td>0</td>\n",
              "      <td>63</td>\n",
              "      <td>0</td>\n",
              "      <td>1</td>\n",
              "    </tr>\n",
              "    <tr>\n",
              "      <th>3</th>\n",
              "      <td>5</td>\n",
              "      <td>marcu brown</td>\n",
              "      <td>marcu</td>\n",
              "      <td>brown</td>\n",
              "      <td>2013-01-13</td>\n",
              "      <td>Male</td>\n",
              "      <td>1993-01-21</td>\n",
              "      <td>23</td>\n",
              "      <td>Less than 25</td>\n",
              "      <td>African-American</td>\n",
              "      <td>0</td>\n",
              "      <td>8</td>\n",
              "      <td>1</td>\n",
              "      <td>0</td>\n",
              "      <td>1</td>\n",
              "      <td>NaN</td>\n",
              "      <td>NaN</td>\n",
              "      <td>NaN</td>\n",
              "      <td>13000570CF10A</td>\n",
              "      <td>2013-01-12</td>\n",
              "      <td>NaN</td>\n",
              "      <td>1.0</td>\n",
              "      <td>F</td>\n",
              "      <td>Possession of Cannabis</td>\n",
              "      <td>0</td>\n",
              "      <td>NaN</td>\n",
              "      <td>NaN</td>\n",
              "      <td>NaN</td>\n",
              "      <td>NaN</td>\n",
              "      <td>NaN</td>\n",
              "      <td>NaN</td>\n",
              "      <td>NaN</td>\n",
              "      <td>NaN</td>\n",
              "      <td>0</td>\n",
              "      <td>NaN</td>\n",
              "      <td>NaN</td>\n",
              "      <td>NaN</td>\n",
              "      <td>NaN</td>\n",
              "      <td>Risk of Recidivism</td>\n",
              "      <td>8</td>\n",
              "      <td>High</td>\n",
              "      <td>2013-01-13</td>\n",
              "      <td>Risk of Violence</td>\n",
              "      <td>6</td>\n",
              "      <td>Medium</td>\n",
              "      <td>2013-01-13</td>\n",
              "      <td>NaN</td>\n",
              "      <td>NaN</td>\n",
              "      <td>1</td>\n",
              "      <td>0</td>\n",
              "      <td>1174</td>\n",
              "      <td>0</td>\n",
              "      <td>0</td>\n",
              "    </tr>\n",
              "    <tr>\n",
              "      <th>4</th>\n",
              "      <td>6</td>\n",
              "      <td>bouthy pierrelouis</td>\n",
              "      <td>bouthy</td>\n",
              "      <td>pierrelouis</td>\n",
              "      <td>2013-03-26</td>\n",
              "      <td>Male</td>\n",
              "      <td>1973-01-22</td>\n",
              "      <td>43</td>\n",
              "      <td>25 - 45</td>\n",
              "      <td>Other</td>\n",
              "      <td>0</td>\n",
              "      <td>1</td>\n",
              "      <td>0</td>\n",
              "      <td>0</td>\n",
              "      <td>2</td>\n",
              "      <td>NaN</td>\n",
              "      <td>NaN</td>\n",
              "      <td>NaN</td>\n",
              "      <td>12014130CF10A</td>\n",
              "      <td>NaN</td>\n",
              "      <td>2013-01-09</td>\n",
              "      <td>76.0</td>\n",
              "      <td>F</td>\n",
              "      <td>arrest case no charge</td>\n",
              "      <td>0</td>\n",
              "      <td>NaN</td>\n",
              "      <td>NaN</td>\n",
              "      <td>NaN</td>\n",
              "      <td>NaN</td>\n",
              "      <td>NaN</td>\n",
              "      <td>NaN</td>\n",
              "      <td>NaN</td>\n",
              "      <td>NaN</td>\n",
              "      <td>0</td>\n",
              "      <td>NaN</td>\n",
              "      <td>NaN</td>\n",
              "      <td>NaN</td>\n",
              "      <td>NaN</td>\n",
              "      <td>Risk of Recidivism</td>\n",
              "      <td>1</td>\n",
              "      <td>Low</td>\n",
              "      <td>2013-03-26</td>\n",
              "      <td>Risk of Violence</td>\n",
              "      <td>1</td>\n",
              "      <td>Low</td>\n",
              "      <td>2013-03-26</td>\n",
              "      <td>NaN</td>\n",
              "      <td>NaN</td>\n",
              "      <td>2</td>\n",
              "      <td>0</td>\n",
              "      <td>1102</td>\n",
              "      <td>0</td>\n",
              "      <td>0</td>\n",
              "    </tr>\n",
              "  </tbody>\n",
              "</table>\n",
              "</div>"
            ],
            "text/plain": [
              "   id                name   first  ...   end event two_year_recid\n",
              "0   1    miguel hernandez  miguel  ...   327     0              0\n",
              "1   3         kevon dixon   kevon  ...   159     1              1\n",
              "2   4            ed philo      ed  ...    63     0              1\n",
              "3   5         marcu brown   marcu  ...  1174     0              0\n",
              "4   6  bouthy pierrelouis  bouthy  ...  1102     0              0\n",
              "\n",
              "[5 rows x 53 columns]"
            ]
          },
          "metadata": {
            "tags": []
          },
          "execution_count": 13
        }
      ]
    },
    {
      "cell_type": "markdown",
      "metadata": {
        "id": "I245en8hRcJ_"
      },
      "source": [
        "### Transform into a binary classification problem"
      ]
    },
    {
      "cell_type": "markdown",
      "metadata": {
        "id": "yidF03JmNr-W"
      },
      "source": [
        "First, let's make this a binary classification problem. We will add a new column that translates the risk score (`decile_score`) into a binary label.\n",
        "\n",
        "Any score 5 or higher\n",
        "(Medium or High risk) means that a defendant is treated as a likely\n",
        "recividist, and a score of 4 or lower (Low risk) means that a defendant\n",
        "is treated as unlikely to reoffend."
      ]
    },
    {
      "cell_type": "code",
      "metadata": {
        "id": "1-nf5jDHN_Na"
      },
      "source": [
        "# turn into a binary classification problem\n",
        "# create feature is_med_or_high_risk\n",
        "df['is_med_or_high_risk']  = (df['decile_score']>=5).astype(int)"
      ],
      "execution_count": null,
      "outputs": []
    },
    {
      "cell_type": "code",
      "metadata": {
        "id": "eZ7_Tt9_OCKw",
        "colab": {
          "base_uri": "https://localhost:8080/",
          "height": 356
        },
        "outputId": "cb7e5ceb-4e73-4604-ff5e-c2c70efdfcb4"
      },
      "source": [
        "df.head()"
      ],
      "execution_count": null,
      "outputs": [
        {
          "output_type": "execute_result",
          "data": {
            "text/html": [
              "<div>\n",
              "<style scoped>\n",
              "    .dataframe tbody tr th:only-of-type {\n",
              "        vertical-align: middle;\n",
              "    }\n",
              "\n",
              "    .dataframe tbody tr th {\n",
              "        vertical-align: top;\n",
              "    }\n",
              "\n",
              "    .dataframe thead th {\n",
              "        text-align: right;\n",
              "    }\n",
              "</style>\n",
              "<table border=\"1\" class=\"dataframe\">\n",
              "  <thead>\n",
              "    <tr style=\"text-align: right;\">\n",
              "      <th></th>\n",
              "      <th>id</th>\n",
              "      <th>name</th>\n",
              "      <th>first</th>\n",
              "      <th>last</th>\n",
              "      <th>compas_screening_date</th>\n",
              "      <th>sex</th>\n",
              "      <th>dob</th>\n",
              "      <th>age</th>\n",
              "      <th>age_cat</th>\n",
              "      <th>race</th>\n",
              "      <th>juv_fel_count</th>\n",
              "      <th>decile_score</th>\n",
              "      <th>juv_misd_count</th>\n",
              "      <th>juv_other_count</th>\n",
              "      <th>priors_count</th>\n",
              "      <th>days_b_screening_arrest</th>\n",
              "      <th>c_jail_in</th>\n",
              "      <th>c_jail_out</th>\n",
              "      <th>c_case_number</th>\n",
              "      <th>c_offense_date</th>\n",
              "      <th>c_arrest_date</th>\n",
              "      <th>c_days_from_compas</th>\n",
              "      <th>c_charge_degree</th>\n",
              "      <th>c_charge_desc</th>\n",
              "      <th>is_recid</th>\n",
              "      <th>r_case_number</th>\n",
              "      <th>r_charge_degree</th>\n",
              "      <th>r_days_from_arrest</th>\n",
              "      <th>r_offense_date</th>\n",
              "      <th>r_charge_desc</th>\n",
              "      <th>r_jail_in</th>\n",
              "      <th>r_jail_out</th>\n",
              "      <th>violent_recid</th>\n",
              "      <th>is_violent_recid</th>\n",
              "      <th>vr_case_number</th>\n",
              "      <th>vr_charge_degree</th>\n",
              "      <th>vr_offense_date</th>\n",
              "      <th>vr_charge_desc</th>\n",
              "      <th>type_of_assessment</th>\n",
              "      <th>decile_score.1</th>\n",
              "      <th>score_text</th>\n",
              "      <th>screening_date</th>\n",
              "      <th>v_type_of_assessment</th>\n",
              "      <th>v_decile_score</th>\n",
              "      <th>v_score_text</th>\n",
              "      <th>v_screening_date</th>\n",
              "      <th>in_custody</th>\n",
              "      <th>out_custody</th>\n",
              "      <th>priors_count.1</th>\n",
              "      <th>start</th>\n",
              "      <th>end</th>\n",
              "      <th>event</th>\n",
              "      <th>two_year_recid</th>\n",
              "      <th>is_med_or_high_risk</th>\n",
              "    </tr>\n",
              "  </thead>\n",
              "  <tbody>\n",
              "    <tr>\n",
              "      <th>0</th>\n",
              "      <td>1</td>\n",
              "      <td>miguel hernandez</td>\n",
              "      <td>miguel</td>\n",
              "      <td>hernandez</td>\n",
              "      <td>2013-08-14</td>\n",
              "      <td>Male</td>\n",
              "      <td>1947-04-18</td>\n",
              "      <td>69</td>\n",
              "      <td>Greater than 45</td>\n",
              "      <td>Other</td>\n",
              "      <td>0</td>\n",
              "      <td>1</td>\n",
              "      <td>0</td>\n",
              "      <td>0</td>\n",
              "      <td>0</td>\n",
              "      <td>-1.0</td>\n",
              "      <td>2013-08-13 06:03:42</td>\n",
              "      <td>2013-08-14 05:41:20</td>\n",
              "      <td>13011352CF10A</td>\n",
              "      <td>2013-08-13</td>\n",
              "      <td>NaN</td>\n",
              "      <td>1.0</td>\n",
              "      <td>F</td>\n",
              "      <td>Aggravated Assault w/Firearm</td>\n",
              "      <td>0</td>\n",
              "      <td>NaN</td>\n",
              "      <td>NaN</td>\n",
              "      <td>NaN</td>\n",
              "      <td>NaN</td>\n",
              "      <td>NaN</td>\n",
              "      <td>NaN</td>\n",
              "      <td>NaN</td>\n",
              "      <td>NaN</td>\n",
              "      <td>0</td>\n",
              "      <td>NaN</td>\n",
              "      <td>NaN</td>\n",
              "      <td>NaN</td>\n",
              "      <td>NaN</td>\n",
              "      <td>Risk of Recidivism</td>\n",
              "      <td>1</td>\n",
              "      <td>Low</td>\n",
              "      <td>2013-08-14</td>\n",
              "      <td>Risk of Violence</td>\n",
              "      <td>1</td>\n",
              "      <td>Low</td>\n",
              "      <td>2013-08-14</td>\n",
              "      <td>2014-07-07</td>\n",
              "      <td>2014-07-14</td>\n",
              "      <td>0</td>\n",
              "      <td>0</td>\n",
              "      <td>327</td>\n",
              "      <td>0</td>\n",
              "      <td>0</td>\n",
              "      <td>0</td>\n",
              "    </tr>\n",
              "    <tr>\n",
              "      <th>1</th>\n",
              "      <td>3</td>\n",
              "      <td>kevon dixon</td>\n",
              "      <td>kevon</td>\n",
              "      <td>dixon</td>\n",
              "      <td>2013-01-27</td>\n",
              "      <td>Male</td>\n",
              "      <td>1982-01-22</td>\n",
              "      <td>34</td>\n",
              "      <td>25 - 45</td>\n",
              "      <td>African-American</td>\n",
              "      <td>0</td>\n",
              "      <td>3</td>\n",
              "      <td>0</td>\n",
              "      <td>0</td>\n",
              "      <td>0</td>\n",
              "      <td>-1.0</td>\n",
              "      <td>2013-01-26 03:45:27</td>\n",
              "      <td>2013-02-05 05:36:53</td>\n",
              "      <td>13001275CF10A</td>\n",
              "      <td>2013-01-26</td>\n",
              "      <td>NaN</td>\n",
              "      <td>1.0</td>\n",
              "      <td>F</td>\n",
              "      <td>Felony Battery w/Prior Convict</td>\n",
              "      <td>1</td>\n",
              "      <td>13009779CF10A</td>\n",
              "      <td>(F3)</td>\n",
              "      <td>NaN</td>\n",
              "      <td>2013-07-05</td>\n",
              "      <td>Felony Battery (Dom Strang)</td>\n",
              "      <td>NaN</td>\n",
              "      <td>NaN</td>\n",
              "      <td>NaN</td>\n",
              "      <td>1</td>\n",
              "      <td>13009779CF10A</td>\n",
              "      <td>(F3)</td>\n",
              "      <td>2013-07-05</td>\n",
              "      <td>Felony Battery (Dom Strang)</td>\n",
              "      <td>Risk of Recidivism</td>\n",
              "      <td>3</td>\n",
              "      <td>Low</td>\n",
              "      <td>2013-01-27</td>\n",
              "      <td>Risk of Violence</td>\n",
              "      <td>1</td>\n",
              "      <td>Low</td>\n",
              "      <td>2013-01-27</td>\n",
              "      <td>2013-01-26</td>\n",
              "      <td>2013-02-05</td>\n",
              "      <td>0</td>\n",
              "      <td>9</td>\n",
              "      <td>159</td>\n",
              "      <td>1</td>\n",
              "      <td>1</td>\n",
              "      <td>0</td>\n",
              "    </tr>\n",
              "    <tr>\n",
              "      <th>2</th>\n",
              "      <td>4</td>\n",
              "      <td>ed philo</td>\n",
              "      <td>ed</td>\n",
              "      <td>philo</td>\n",
              "      <td>2013-04-14</td>\n",
              "      <td>Male</td>\n",
              "      <td>1991-05-14</td>\n",
              "      <td>24</td>\n",
              "      <td>Less than 25</td>\n",
              "      <td>African-American</td>\n",
              "      <td>0</td>\n",
              "      <td>4</td>\n",
              "      <td>0</td>\n",
              "      <td>1</td>\n",
              "      <td>4</td>\n",
              "      <td>-1.0</td>\n",
              "      <td>2013-04-13 04:58:34</td>\n",
              "      <td>2013-04-14 07:02:04</td>\n",
              "      <td>13005330CF10A</td>\n",
              "      <td>2013-04-13</td>\n",
              "      <td>NaN</td>\n",
              "      <td>1.0</td>\n",
              "      <td>F</td>\n",
              "      <td>Possession of Cocaine</td>\n",
              "      <td>1</td>\n",
              "      <td>13011511MM10A</td>\n",
              "      <td>(M1)</td>\n",
              "      <td>0.0</td>\n",
              "      <td>2013-06-16</td>\n",
              "      <td>Driving Under The Influence</td>\n",
              "      <td>2013-06-16</td>\n",
              "      <td>2013-06-16</td>\n",
              "      <td>NaN</td>\n",
              "      <td>0</td>\n",
              "      <td>NaN</td>\n",
              "      <td>NaN</td>\n",
              "      <td>NaN</td>\n",
              "      <td>NaN</td>\n",
              "      <td>Risk of Recidivism</td>\n",
              "      <td>4</td>\n",
              "      <td>Low</td>\n",
              "      <td>2013-04-14</td>\n",
              "      <td>Risk of Violence</td>\n",
              "      <td>3</td>\n",
              "      <td>Low</td>\n",
              "      <td>2013-04-14</td>\n",
              "      <td>2013-06-16</td>\n",
              "      <td>2013-06-16</td>\n",
              "      <td>4</td>\n",
              "      <td>0</td>\n",
              "      <td>63</td>\n",
              "      <td>0</td>\n",
              "      <td>1</td>\n",
              "      <td>0</td>\n",
              "    </tr>\n",
              "    <tr>\n",
              "      <th>3</th>\n",
              "      <td>5</td>\n",
              "      <td>marcu brown</td>\n",
              "      <td>marcu</td>\n",
              "      <td>brown</td>\n",
              "      <td>2013-01-13</td>\n",
              "      <td>Male</td>\n",
              "      <td>1993-01-21</td>\n",
              "      <td>23</td>\n",
              "      <td>Less than 25</td>\n",
              "      <td>African-American</td>\n",
              "      <td>0</td>\n",
              "      <td>8</td>\n",
              "      <td>1</td>\n",
              "      <td>0</td>\n",
              "      <td>1</td>\n",
              "      <td>NaN</td>\n",
              "      <td>NaN</td>\n",
              "      <td>NaN</td>\n",
              "      <td>13000570CF10A</td>\n",
              "      <td>2013-01-12</td>\n",
              "      <td>NaN</td>\n",
              "      <td>1.0</td>\n",
              "      <td>F</td>\n",
              "      <td>Possession of Cannabis</td>\n",
              "      <td>0</td>\n",
              "      <td>NaN</td>\n",
              "      <td>NaN</td>\n",
              "      <td>NaN</td>\n",
              "      <td>NaN</td>\n",
              "      <td>NaN</td>\n",
              "      <td>NaN</td>\n",
              "      <td>NaN</td>\n",
              "      <td>NaN</td>\n",
              "      <td>0</td>\n",
              "      <td>NaN</td>\n",
              "      <td>NaN</td>\n",
              "      <td>NaN</td>\n",
              "      <td>NaN</td>\n",
              "      <td>Risk of Recidivism</td>\n",
              "      <td>8</td>\n",
              "      <td>High</td>\n",
              "      <td>2013-01-13</td>\n",
              "      <td>Risk of Violence</td>\n",
              "      <td>6</td>\n",
              "      <td>Medium</td>\n",
              "      <td>2013-01-13</td>\n",
              "      <td>NaN</td>\n",
              "      <td>NaN</td>\n",
              "      <td>1</td>\n",
              "      <td>0</td>\n",
              "      <td>1174</td>\n",
              "      <td>0</td>\n",
              "      <td>0</td>\n",
              "      <td>1</td>\n",
              "    </tr>\n",
              "    <tr>\n",
              "      <th>4</th>\n",
              "      <td>6</td>\n",
              "      <td>bouthy pierrelouis</td>\n",
              "      <td>bouthy</td>\n",
              "      <td>pierrelouis</td>\n",
              "      <td>2013-03-26</td>\n",
              "      <td>Male</td>\n",
              "      <td>1973-01-22</td>\n",
              "      <td>43</td>\n",
              "      <td>25 - 45</td>\n",
              "      <td>Other</td>\n",
              "      <td>0</td>\n",
              "      <td>1</td>\n",
              "      <td>0</td>\n",
              "      <td>0</td>\n",
              "      <td>2</td>\n",
              "      <td>NaN</td>\n",
              "      <td>NaN</td>\n",
              "      <td>NaN</td>\n",
              "      <td>12014130CF10A</td>\n",
              "      <td>NaN</td>\n",
              "      <td>2013-01-09</td>\n",
              "      <td>76.0</td>\n",
              "      <td>F</td>\n",
              "      <td>arrest case no charge</td>\n",
              "      <td>0</td>\n",
              "      <td>NaN</td>\n",
              "      <td>NaN</td>\n",
              "      <td>NaN</td>\n",
              "      <td>NaN</td>\n",
              "      <td>NaN</td>\n",
              "      <td>NaN</td>\n",
              "      <td>NaN</td>\n",
              "      <td>NaN</td>\n",
              "      <td>0</td>\n",
              "      <td>NaN</td>\n",
              "      <td>NaN</td>\n",
              "      <td>NaN</td>\n",
              "      <td>NaN</td>\n",
              "      <td>Risk of Recidivism</td>\n",
              "      <td>1</td>\n",
              "      <td>Low</td>\n",
              "      <td>2013-03-26</td>\n",
              "      <td>Risk of Violence</td>\n",
              "      <td>1</td>\n",
              "      <td>Low</td>\n",
              "      <td>2013-03-26</td>\n",
              "      <td>NaN</td>\n",
              "      <td>NaN</td>\n",
              "      <td>2</td>\n",
              "      <td>0</td>\n",
              "      <td>1102</td>\n",
              "      <td>0</td>\n",
              "      <td>0</td>\n",
              "      <td>0</td>\n",
              "    </tr>\n",
              "  </tbody>\n",
              "</table>\n",
              "</div>"
            ],
            "text/plain": [
              "   id                name   first  ... event two_year_recid is_med_or_high_risk\n",
              "0   1    miguel hernandez  miguel  ...     0              0                   0\n",
              "1   3         kevon dixon   kevon  ...     1              1                   0\n",
              "2   4            ed philo      ed  ...     0              1                   0\n",
              "3   5         marcu brown   marcu  ...     0              0                   1\n",
              "4   6  bouthy pierrelouis  bouthy  ...     0              0                   0\n",
              "\n",
              "[5 rows x 54 columns]"
            ]
          },
          "metadata": {
            "tags": []
          },
          "execution_count": 15
        }
      ]
    },
    {
      "cell_type": "markdown",
      "metadata": {
        "id": "i-Kn6npPNL_g"
      },
      "source": [
        "### Evaluate model performance"
      ]
    },
    {
      "cell_type": "markdown",
      "metadata": {
        "id": "9WGEqqGtdsfd"
      },
      "source": [
        "To evaluate the performance of the model, we will compare the model’s\n",
        "predictions to the “truth”:\n",
        "\n",
        "-   The risk score prediction of the COMPAS system is in the\n",
        "    `decile_score` column,\n",
        "-   The classification of COMPAS as medium/high risk or low risk is in the  `is_med_or_high_risk` column\n",
        "-   The “true” recidivism value (whether or not the defendant committed\n",
        "    another crime in the next two years) is in the `two_year_recid`\n",
        "    column."
      ]
    },
    {
      "cell_type": "markdown",
      "metadata": {
        "id": "0HGuCkSyOT-G"
      },
      "source": [
        "Let's start by computing the accuracy:"
      ]
    },
    {
      "cell_type": "code",
      "metadata": {
        "id": "x43DINd0OVwu",
        "colab": {
          "base_uri": "https://localhost:8080/",
          "height": 35
        },
        "outputId": "9786ba06-a157-4654-8477-728a25f980d2"
      },
      "source": [
        "# classification accuracy\n",
        "np.mean(df['is_med_or_high_risk']==df['two_year_recid'])"
      ],
      "execution_count": null,
      "outputs": [
        {
          "output_type": "execute_result",
          "data": {
            "text/plain": [
              "0.6537288605489326"
            ]
          },
          "metadata": {
            "tags": []
          },
          "execution_count": 16
        }
      ]
    },
    {
      "cell_type": "code",
      "metadata": {
        "id": "_-R6KSL1uXVL",
        "colab": {
          "base_uri": "https://localhost:8080/",
          "height": 35
        },
        "outputId": "55b5dcce-762f-456d-a0ad-6e77015ca572"
      },
      "source": [
        "np.mean(df['two_year_recid'])"
      ],
      "execution_count": null,
      "outputs": [
        {
          "output_type": "execute_result",
          "data": {
            "text/plain": [
              "0.45065151095092876"
            ]
          },
          "metadata": {
            "tags": []
          },
          "execution_count": 17
        }
      ]
    },
    {
      "cell_type": "markdown",
      "metadata": {
        "id": "mUebyVhrOilY"
      },
      "source": [
        "This, itself, might already be considered problematic..."
      ]
    },
    {
      "cell_type": "markdown",
      "metadata": {
        "id": "Sr4aDxeyOobz"
      },
      "source": [
        "The accuracy score includes both kinds of errors:\n",
        "\n",
        "* false positives (defendant is predicted as medium/high risk but does not reoffend)\n",
        "* false negatives (defendant is predicted as low risk, but does reoffend)\n",
        "\n",
        "but these errors have different costs. It can be useful to pull them out separately, to see the rate of different types of errors."
      ]
    },
    {
      "cell_type": "markdown",
      "metadata": {
        "id": "QJ8eptyePGpb"
      },
      "source": [
        "If we create a confusion matrix, we can use it to derive a whole set of classifier metrics:\n",
        "\n",
        "* True Positive Rate (TPR) also called recall or sensitivity\n",
        "* True Negative Rate (TNR) also called specificity\n",
        "* Positive Predictive Value (PPV) also called precision\n",
        "* Negative Predictive Value (NPV)\n",
        "* False Positive Rate (FPR)\n",
        "* False Discovery Rate (FDR)\n",
        "* False Negative Rate (FNR)\n",
        "* False Omission Rate (FOR)"
      ]
    },
    {
      "cell_type": "markdown",
      "metadata": {
        "id": "zhth5mZmr6BK"
      },
      "source": [
        "![image.png](data:image/png;base64,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)"
      ]
    },
    {
      "cell_type": "code",
      "metadata": {
        "id": "VLSiEvhAPUPe",
        "colab": {
          "base_uri": "https://localhost:8080/",
          "height": 334
        },
        "outputId": "0b84e20b-3d8f-473f-e51a-a3bbec6c3eba"
      },
      "source": [
        "cm = pd.crosstab(df['is_med_or_high_risk'], df['two_year_recid'],\n",
        "                               rownames=['Predicted'], colnames=['Actual'])\n",
        "p = plt.figure(figsize=(5,5));\n",
        "p = sns.heatmap(cm, annot=True, fmt=\"d\", cbar=False)"
      ],
      "execution_count": null,
      "outputs": [
        {
          "output_type": "display_data",
          "data": {
            "image/png": "[encoded data removed]",
            "text/plain": [
              "<Figure size 360x360 with 1 Axes>"
            ]
          },
          "metadata": {
            "tags": [],
            "needs_background": "light"
          }
        }
      ]
    },
    {
      "cell_type": "markdown",
      "metadata": {
        "id": "_BIV3-VmR13e"
      },
      "source": [
        "We can also use `sklearn`'s `confusion_matrix` to pull out these values and compute any metrics of interest:"
      ]
    },
    {
      "cell_type": "code",
      "metadata": {
        "id": "jwlxGs5_R7Qo",
        "colab": {
          "base_uri": "https://localhost:8080/",
          "height": 90
        },
        "outputId": "2407bac1-1a79-4756-e931-6675f55a501b"
      },
      "source": [
        "[[tn , fp],[fn , tp]]  = confusion_matrix(df['two_year_recid'], df['is_med_or_high_risk'])\n",
        "print(\"True negatives:  \", tn)\n",
        "print(\"False positives: \", fp)\n",
        "print(\"False negatives: \", fn)\n",
        "print(\"True positives:  \", tp)"
      ],
      "execution_count": null,
      "outputs": [
        {
          "output_type": "stream",
          "text": [
            "True negatives:   2681\n",
            "False positives:  1282\n",
            "False negatives:  1216\n",
            "True positives:   2035\n"
          ],
          "name": "stdout"
        }
      ]
    },
    {
      "cell_type": "markdown",
      "metadata": {
        "id": "O7_pbqDgVu6A"
      },
      "source": [
        "Or we can compute them directly using `crosstab` -"
      ]
    },
    {
      "cell_type": "markdown",
      "metadata": {
        "id": "apDQyd0mQqYa"
      },
      "source": [
        "Here, we normalize by row - show the PPV, FDR, FOR, NPV:"
      ]
    },
    {
      "cell_type": "code",
      "metadata": {
        "id": "kLTsi24fQYtI",
        "colab": {
          "base_uri": "https://localhost:8080/",
          "height": 334
        },
        "outputId": "bc23bf2b-5712-4986-c527-77105ba293d3"
      },
      "source": [
        "cm = pd.crosstab(df['is_med_or_high_risk'], df['two_year_recid'],\n",
        "                               rownames=['Predicted'], colnames=['Actual'], normalize='index')\n",
        "p = plt.figure(figsize=(5,5));\n",
        "p = sns.heatmap(cm, annot=True, fmt=\".2f\", cbar=False)"
      ],
      "execution_count": null,
      "outputs": [
        {
          "output_type": "display_data",
          "data": {
            "image/png": "[encoded data removed]",
            "text/plain": [
              "<Figure size 360x360 with 1 Axes>"
            ]
          },
          "metadata": {
            "tags": [],
            "needs_background": "light"
          }
        }
      ]
    },
    {
      "cell_type": "markdown",
      "metadata": {
        "id": "B2qaaE8vQxmc"
      },
      "source": [
        "Here, we normalize by colum - show the TPR, FPR, FNR, TNR:"
      ]
    },
    {
      "cell_type": "code",
      "metadata": {
        "id": "VZomSYWuQiNq",
        "colab": {
          "base_uri": "https://localhost:8080/",
          "height": 334
        },
        "outputId": "ed3136ee-9e1a-4516-92b0-153b0bd663f9"
      },
      "source": [
        "cm = pd.crosstab(df['is_med_or_high_risk'], df['two_year_recid'],\n",
        "                               rownames=['Predicted'], colnames=['Actual'], normalize='columns')\n",
        "p = plt.figure(figsize=(5,5));\n",
        "p = sns.heatmap(cm, annot=True, fmt=\".2f\", cbar=False)"
      ],
      "execution_count": null,
      "outputs": [
        {
          "output_type": "display_data",
          "data": {
            "image/png": "[encoded data removed]",
            "text/plain": [
              "<Figure size 360x360 with 1 Axes>"
            ]
          },
          "metadata": {
            "tags": [],
            "needs_background": "light"
          }
        }
      ]
    },
    {
      "cell_type": "markdown",
      "metadata": {
        "id": "NuMPfQ2EdMk-"
      },
      "source": [
        "Overall, we see that a defendant has a similar likelihood of being\n",
        "wrongly labeled a likely recidivist and of being wrongly labeled as\n",
        "unlikely to reoffend:"
      ]
    },
    {
      "cell_type": "code",
      "metadata": {
        "id": "u1sv4hvidScR",
        "colab": {
          "base_uri": "https://localhost:8080/",
          "height": 54
        },
        "outputId": "2282477c-abb3-4412-ea08-9b3d7f939683"
      },
      "source": [
        "# compute?\n",
        "fpr = fp/(fp+tn)\n",
        "fnr  = fn/(fn+tp)\n",
        "\n",
        "print(\"False positive rate (overall): \", fpr)\n",
        "print(\"False negative rate (overall): \", fnr)\n"
      ],
      "execution_count": null,
      "outputs": [
        {
          "output_type": "stream",
          "text": [
            "False positive rate (overall):  0.32349230381024474\n",
            "False negative rate (overall):  0.3740387573054445\n"
          ],
          "name": "stdout"
        }
      ]
    },
    {
      "cell_type": "markdown",
      "metadata": {
        "id": "ffYd_lydW2BD"
      },
      "source": [
        "We can also directly evaluate the risk score, instead of just the labels. The risk score is meant to indicate the probability that a defendant will reoffend."
      ]
    },
    {
      "cell_type": "code",
      "metadata": {
        "id": "2BO0bJ7Hdsfj"
      },
      "source": [
        "d = df.groupby('decile_score').agg({'two_year_recid': 'mean'})"
      ],
      "execution_count": null,
      "outputs": []
    },
    {
      "cell_type": "code",
      "metadata": {
        "id": "2Bwm-zWWXblH",
        "colab": {
          "base_uri": "https://localhost:8080/",
          "height": 284
        },
        "outputId": "0b81dfe8-3ca0-4c38-c01c-855ec975eeaa"
      },
      "source": [
        "# plot\n",
        "sns.scatterplot(data=d);\n",
        "plt.ylim(0,1);\n",
        "plt.ylabel('Recidivism rate');"
      ],
      "execution_count": null,
      "outputs": [
        {
          "output_type": "display_data",
          "data": {
            "image/png": "[encoded data removed]",
            "text/plain": [
              "<Figure size 432x288 with 1 Axes>"
            ]
          },
          "metadata": {
            "tags": [],
            "needs_background": "light"
          }
        }
      ]
    },
    {
      "cell_type": "markdown",
      "metadata": {
        "id": "W8HjXt_2dsfg"
      },
      "source": [
        "Defendants with a higher COMPAS score indeed had higher\n",
        "rates of recidivism."
      ]
    },
    {
      "cell_type": "code",
      "metadata": {
        "id": "QGiMHAuIv50J",
        "colab": {
          "base_uri": "https://localhost:8080/",
          "height": 279
        },
        "outputId": "983e50e4-a803-4cbf-caff-6d257993e932"
      },
      "source": [
        "from sklearn.metrics import roc_curve, roc_auc_score\n",
        "\n",
        "fpr, tpr, thresholds = roc_curve(df['two_year_recid'], df['decile_score'])\n",
        "sns.scatterplot(x=fpr, y=tpr, );\n",
        "sns.lineplot(x=fpr, y=tpr);\n",
        "plt.ylabel(\"TPR\");\n",
        "plt.xlabel(\"FPR\");"
      ],
      "execution_count": null,
      "outputs": [
        {
          "output_type": "display_data",
          "data": {
            "image/png": "[encoded data removed]",
            "text/plain": [
              "<Figure size 432x288 with 1 Axes>"
            ]
          },
          "metadata": {
            "tags": [],
            "needs_background": "light"
          }
        }
      ]
    },
    {
      "cell_type": "code",
      "metadata": {
        "id": "vgrEvvVhxMVo",
        "colab": {
          "base_uri": "https://localhost:8080/",
          "height": 35
        },
        "outputId": "0ffa2d47-67bd-48fc-a61c-4d24920b551a"
      },
      "source": [
        "auc = roc_auc_score(df['two_year_recid'], df['decile_score'])\n",
        "auc"
      ],
      "execution_count": null,
      "outputs": [
        {
          "output_type": "execute_result",
          "data": {
            "text/plain": [
              "0.7021662544019724"
            ]
          },
          "metadata": {
            "tags": []
          },
          "execution_count": 30
        }
      ]
    },
    {
      "cell_type": "markdown",
      "metadata": {
        "id": "DtJSvYEZXkkh"
      },
      "source": [
        "### Fairness\n",
        "\n",
        "A useful reference for the fairness definitions in this notebook: [Fairness Definitions Explained](https://fairware.cs.umass.edu/papers/Verma.pdf)\n"
      ]
    },
    {
      "cell_type": "markdown",
      "metadata": {
        "id": "4noDueoodsfx"
      },
      "source": [
        "COMPAS has been under scrutiny for issues related for fairness with\n",
        "respect to race of the defendant.\n",
        "\n",
        "Race is not an explicit input to COMPAS, but some of the questions that\n",
        "*are* used as input may have strong correlations with race.\n",
        "\n",
        "First, we will find out how frequently each race is represented in the data:"
      ]
    },
    {
      "cell_type": "code",
      "metadata": {
        "id": "6Z0mtUcYdsf0",
        "colab": {
          "base_uri": "https://localhost:8080/",
          "height": 145
        },
        "outputId": "c1c5ca8f-6955-4681-9b43-c81a7484b1e5"
      },
      "source": [
        "df['race'].value_counts()"
      ],
      "execution_count": null,
      "outputs": [
        {
          "output_type": "execute_result",
          "data": {
            "text/plain": [
              "African-American    3696\n",
              "Caucasian           2454\n",
              "Hispanic             637\n",
              "Other                377\n",
              "Asian                 32\n",
              "Native American       18\n",
              "Name: race, dtype: int64"
            ]
          },
          "metadata": {
            "tags": []
          },
          "execution_count": 31
        }
      ]
    },
    {
      "cell_type": "markdown",
      "metadata": {
        "id": "iSDxvK70dsf-"
      },
      "source": [
        "We will focus specifically on African-American or Caucasian defendants, since they are the subject of the ProPublica claim.\n",
        "\n"
      ]
    },
    {
      "cell_type": "code",
      "metadata": {
        "id": "jaHe12PnYAK6"
      },
      "source": [
        "df = df[df.race.isin([\"African-American\",\"Caucasian\"])]"
      ],
      "execution_count": null,
      "outputs": []
    },
    {
      "cell_type": "markdown",
      "metadata": {
        "id": "6LNxnjBCYaLS"
      },
      "source": [
        "First, let's compare the accuracy for the two groups:"
      ]
    },
    {
      "cell_type": "code",
      "metadata": {
        "id": "IrCBNj6zZWaH",
        "colab": {
          "base_uri": "https://localhost:8080/",
          "height": 90
        },
        "outputId": "70f5e6e6-5013-46bd-c06e-db5c63b4adb0"
      },
      "source": [
        "# compare accuracy\n",
        "(df['two_year_recid']==df['is_med_or_high_risk']).astype(int).groupby(df['race']).mean()"
      ],
      "execution_count": null,
      "outputs": [
        {
          "output_type": "execute_result",
          "data": {
            "text/plain": [
              "race\n",
              "African-American    0.638258\n",
              "Caucasian           0.669927\n",
              "dtype: float64"
            ]
          },
          "metadata": {
            "tags": []
          },
          "execution_count": 33
        }
      ]
    },
    {
      "cell_type": "markdown",
      "metadata": {
        "id": "S87Ll0Nwats2"
      },
      "source": [
        "It isn't exactly the same, but it's similar - within a few points. This is a type of fairness known as **overall accuracy equality**."
      ]
    },
    {
      "cell_type": "markdown",
      "metadata": {
        "id": "Rc3DnOLYbYS1"
      },
      "source": [
        "Next, let's see whether a defendant who is classified as medium/high risk has the same probability of recidivism for the two groups.\n",
        "\n",
        "In other words, we will compute the PPV for each group:\n",
        "\n",
        "$$PPV = \\frac{TP}{TP+FP} = P(y=1 | \\hat{y} = 1)$$"
      ]
    },
    {
      "cell_type": "code",
      "metadata": {
        "id": "BXBhdEu7b1zb",
        "colab": {
          "base_uri": "https://localhost:8080/",
          "height": 90
        },
        "outputId": "ff476940-aa33-42b9-977f-173786be0194"
      },
      "source": [
        "# compute PPV\n",
        "df[df['is_med_or_high_risk']==1]['two_year_recid'].groupby(df['race']).mean()"
      ],
      "execution_count": null,
      "outputs": [
        {
          "output_type": "execute_result",
          "data": {
            "text/plain": [
              "race\n",
              "African-American    0.629715\n",
              "Caucasian           0.591335\n",
              "Name: two_year_recid, dtype: float64"
            ]
          },
          "metadata": {
            "tags": []
          },
          "execution_count": 34
        }
      ]
    },
    {
      "cell_type": "markdown",
      "metadata": {
        "id": "nqSKszgHcN-4"
      },
      "source": [
        "Again, similar (within a few points). This is a type of fairness known as **predictive parity**."
      ]
    },
    {
      "cell_type": "markdown",
      "metadata": {
        "id": "V1bJBqWNXxID"
      },
      "source": [
        "We can extend this idea, to check whether a defendant with a given score has the same probability of recidivism for the two groups:"
      ]
    },
    {
      "cell_type": "code",
      "metadata": {
        "id": "quD3_zRzdsgA",
        "colab": {
          "base_uri": "https://localhost:8080/",
          "height": 284
        },
        "outputId": "129a22cb-3837-4ab2-e8e7-8f699d9e128e"
      },
      "source": [
        "# calibration plot\n",
        "d = pd.DataFrame(df.groupby(['decile_score','race']).agg({'two_year_recid': 'mean'}))\n",
        "d = d.reset_index()\n",
        "im = sns.scatterplot(data=d, x='decile_score', y='two_year_recid', hue='race');\n",
        "im.set(ylim=(0,1));"
      ],
      "execution_count": null,
      "outputs": [
        {
          "output_type": "display_data",
          "data": {
            "image/png": "[encoded data removed]",
            "text/plain": [
              "<Figure size 432x288 with 1 Axes>"
            ]
          },
          "metadata": {
            "tags": [],
            "needs_background": "light"
          }
        }
      ]
    },
    {
      "cell_type": "markdown",
      "metadata": {
        "id": "qubpWhMNdsgH"
      },
      "source": [
        "We can see that for both African-American and Caucasian defendants, for\n",
        "any given COMPAS score, recidivism rates are similar. This is a type of fairness known as **calibration**."
      ]
    },
    {
      "cell_type": "markdown",
      "metadata": {
        "id": "MrYENtRwdsgY"
      },
      "source": [
        "Next, we will look at the frequency with which defendants of each race\n",
        "are assigned each COMPAS score:"
      ]
    },
    {
      "cell_type": "code",
      "metadata": {
        "id": "55N05dexdsga",
        "colab": {
          "base_uri": "https://localhost:8080/",
          "height": 225
        },
        "outputId": "b8ae9c11-b8c9-4136-c9a8-ecfd0b8b3397"
      },
      "source": [
        "# frequency plot\n",
        "g = sns.FacetGrid(df, col=\"race\", margin_titles=True);\n",
        "g.map(plt.hist, \"decile_score\", bins=10);"
      ],
      "execution_count": null,
      "outputs": [
        {
          "output_type": "display_data",
          "data": {
            "image/png": "[encoded data removed]",
            "text/plain": [
              "<Figure size 432x216 with 2 Axes>"
            ]
          },
          "metadata": {
            "tags": [],
            "needs_background": "light"
          }
        }
      ]
    },
    {
      "cell_type": "markdown",
      "metadata": {
        "id": "p8_5HoWUdsgg"
      },
      "source": [
        "We observe that Caucasian defendants in this sample are more likely to\n",
        "be assigned a low risk score.\n"
      ]
    },
    {
      "cell_type": "markdown",
      "metadata": {
        "id": "9kADy85iYJ56"
      },
      "source": [
        "However, to evaluate whether this is *unfair*, we need to know the true prevalence - whether the rates of recividism are the same in both populations, according to the data:"
      ]
    },
    {
      "cell_type": "code",
      "metadata": {
        "id": "XvJwQqoodsgi",
        "colab": {
          "base_uri": "https://localhost:8080/",
          "height": 138
        },
        "outputId": "c0fa8ed6-40c7-4baa-c562-724f49b7d788"
      },
      "source": [
        "# base rates\n",
        "df.groupby('race').agg({'two_year_recid': 'mean',\n",
        "                        'is_med_or_high_risk': 'mean',\n",
        "                        'decile_score': 'mean'})"
      ],
      "execution_count": null,
      "outputs": [
        {
          "output_type": "execute_result",
          "data": {
            "text/html": [
              "<div>\n",
              "<style scoped>\n",
              "    .dataframe tbody tr th:only-of-type {\n",
              "        vertical-align: middle;\n",
              "    }\n",
              "\n",
              "    .dataframe tbody tr th {\n",
              "        vertical-align: top;\n",
              "    }\n",
              "\n",
              "    .dataframe thead th {\n",
              "        text-align: right;\n",
              "    }\n",
              "</style>\n",
              "<table border=\"1\" class=\"dataframe\">\n",
              "  <thead>\n",
              "    <tr style=\"text-align: right;\">\n",
              "      <th></th>\n",
              "      <th>two_year_recid</th>\n",
              "      <th>is_med_or_high_risk</th>\n",
              "      <th>decile_score</th>\n",
              "    </tr>\n",
              "    <tr>\n",
              "      <th>race</th>\n",
              "      <th></th>\n",
              "      <th></th>\n",
              "      <th></th>\n",
              "    </tr>\n",
              "  </thead>\n",
              "  <tbody>\n",
              "    <tr>\n",
              "      <th>African-American</th>\n",
              "      <td>0.514340</td>\n",
              "      <td>0.588203</td>\n",
              "      <td>5.368777</td>\n",
              "    </tr>\n",
              "    <tr>\n",
              "      <th>Caucasian</th>\n",
              "      <td>0.393643</td>\n",
              "      <td>0.348003</td>\n",
              "      <td>3.735126</td>\n",
              "    </tr>\n",
              "  </tbody>\n",
              "</table>\n",
              "</div>"
            ],
            "text/plain": [
              "                  two_year_recid  is_med_or_high_risk  decile_score\n",
              "race                                                               \n",
              "African-American        0.514340             0.588203      5.368777\n",
              "Caucasian               0.393643             0.348003      3.735126"
            ]
          },
          "metadata": {
            "tags": []
          },
          "execution_count": 36
        }
      ]
    },
    {
      "cell_type": "markdown",
      "metadata": {
        "id": "wz_E9ZX6bKJb"
      },
      "source": [
        "The predictions of the model are pretty close to the actual prevalence in the population."
      ]
    },
    {
      "cell_type": "markdown",
      "metadata": {
        "id": "SJsrRT9Wdsgp"
      },
      "source": [
        "So far, our analysis suggests that COMPAS is fair with respect to race:\n",
        "\n",
        "-   The overall accuracy of the COMPAS label is the same, regardless of race (**overall accuracy equality**)\n",
        "-   The likelihood of recividism among\n",
        "    defendants labeled as medium or high risk is similar, regardless of race (**predictive\n",
        "    parity**)\n",
        "-   For any given COMPAS score, the risk of recidivism is\n",
        "    similar, regardless of race - the “meaning” of the score is\n",
        "    consistent across race (**calibration**)\n",
        "\n",
        "\n",
        "We do not have **statistical parity** (a type of fairness corresponding to equal probability of positive\n",
        "classification), but we don’t necessarily expect to when the prevalance\n",
        "of actual positive is different between groups."
      ]
    },
    {
      "cell_type": "markdown",
      "metadata": {
        "id": "FQtLC2bvc5uK"
      },
      "source": [
        "### Revisiting the ProPublica claim"
      ]
    },
    {
      "cell_type": "markdown",
      "metadata": {
        "id": "43S9E57wc78d"
      },
      "source": [
        "ProPublica made a specific claim:\n",
        "\n",
        "> 23.5% of Caucasian defendants, 44.9% of African-American\n",
        "    defendants were “Labeled Higher Risk, But Didn’t Re-Offend”\n"
      ]
    },
    {
      "cell_type": "markdown",
      "metadata": {
        "id": "b7ugbq9DdDUj"
      },
      "source": [
        "What metric should we check to evaluate whether this claim is correct?\n",
        "\n",
        "$$FDR   = \\frac{FP}{FP + TP} = P(y = 0 | \\hat{y} = 1)$$\n",
        "\n",
        "$$FPR = \\frac{FP}{FP + TN} = P(\\hat{y} = 1 | y=0)$$\n",
        "\n",
        "$$FOR   = \\frac{FN}{FN + TN} = P(y = 1 |\\hat{y} = 0)$$\n",
        "\n",
        "$$FNR = \\frac{FN}{TP + FN} = P(\\hat{y} = 0 | y=1)$$\n",
        "\n",
        "\n",
        "\n",
        "\n",
        "\n",
        "\n"
      ]
    },
    {
      "cell_type": "markdown",
      "metadata": {
        "id": "75PzkbKLgBVf"
      },
      "source": [
        "Is \"Labeled Higher Risk, But Didn’t Re-Offend\" the same thing as \"Didn’t Re-Offend, But Labeled Higher Risk?\n"
      ]
    },
    {
      "cell_type": "code",
      "metadata": {
        "id": "AaKzyeXwdbMw"
      },
      "source": [
        "# cm for white defendants\n",
        "[[tn , fp],[fn , tp]]  = confusion_matrix(df[df.race.eq('Caucasian')]['two_year_recid'], df[df.race.eq('Caucasian')]['is_med_or_high_risk'])"
      ],
      "execution_count": null,
      "outputs": []
    },
    {
      "cell_type": "code",
      "metadata": {
        "id": "ZJKqkUbq2a0s",
        "colab": {
          "base_uri": "https://localhost:8080/",
          "height": 35
        },
        "outputId": "9ec350fa-c878-4436-ff0b-2c75a93c4bc7"
      },
      "source": [
        "fdr=fp/(fp+tp)\n",
        "print(\"False discovery rate: %f\" % fdr)"
      ],
      "execution_count": null,
      "outputs": [
        {
          "output_type": "stream",
          "text": [
            "False discovery rate: 0.408665\n"
          ],
          "name": "stdout"
        }
      ]
    },
    {
      "cell_type": "code",
      "metadata": {
        "id": "cNzq98FY2j02",
        "colab": {
          "base_uri": "https://localhost:8080/",
          "height": 35
        },
        "outputId": "9abde04a-aad8-4812-fd28-89edead24bb0"
      },
      "source": [
        "fpr=fp/(fp+tn)\n",
        "print(\"False positive rate: %f\" % fpr)"
      ],
      "execution_count": null,
      "outputs": [
        {
          "output_type": "stream",
          "text": [
            "False positive rate: 0.234543\n"
          ],
          "name": "stdout"
        }
      ]
    },
    {
      "cell_type": "code",
      "metadata": {
        "id": "py4bycxIf3cV"
      },
      "source": [
        "# cm for Black defendants\n",
        "[[tn , fp],[fn , tp]]  = confusion_matrix(df[df.race.eq('African-American')]['two_year_recid'], df[df.race.eq('African-American')]['is_med_or_high_risk'])"
      ],
      "execution_count": null,
      "outputs": []
    },
    {
      "cell_type": "code",
      "metadata": {
        "id": "RFsgi5aR2hah",
        "colab": {
          "base_uri": "https://localhost:8080/",
          "height": 35
        },
        "outputId": "edcd33da-5bc0-4461-eaa7-5d6980d282b3"
      },
      "source": [
        "fdr=fp/(fp+tp)\n",
        "print(\"False discovery rate: %f\" % fdr)"
      ],
      "execution_count": null,
      "outputs": [
        {
          "output_type": "stream",
          "text": [
            "False discovery rate: 0.370285\n"
          ],
          "name": "stdout"
        }
      ]
    },
    {
      "cell_type": "code",
      "metadata": {
        "id": "i-xK5js82o6Z",
        "colab": {
          "base_uri": "https://localhost:8080/",
          "height": 35
        },
        "outputId": "4bb3b901-8826-4b78-a1df-f2455aeff8c9"
      },
      "source": [
        "fpr=fp/(fp+tn)\n",
        "print(\"False positive rate: %f\" % fpr)"
      ],
      "execution_count": null,
      "outputs": [
        {
          "output_type": "stream",
          "text": [
            "False positive rate: 0.448468\n"
          ],
          "name": "stdout"
        }
      ]
    },
    {
      "cell_type": "markdown",
      "metadata": {
        "id": "blxzdkIVgMbP"
      },
      "source": [
        "### We can fix it, right?"
      ]
    },
    {
      "cell_type": "code",
      "metadata": {
        "id": "qiJgEt06pg0y",
        "colab": {
          "base_uri": "https://localhost:8080/",
          "height": 90
        },
        "outputId": "7a0e83fb-a764-4ca1-d75e-57a795a670e9"
      },
      "source": [
        "# adjust for Black defendants\n",
        "black_threshold  = 6\n",
        "df_black = df[df['race']==\"African-American\"].copy()\n",
        "df_black['is_med_or_high_risk'] = (df_black['decile_score']>=black_threshold).astype(int)\n",
        "[[tn , fp],[fn , tp]]  = confusion_matrix(df_black['two_year_recid'], df_black['is_med_or_high_risk'])\n",
        "print(\"False positive rate (Black)      : \", fp/(fp+tn))\n",
        "print(\"False negative rate (Black)      : \", fn/(fn+tp))\n",
        "print(\"Positive predictive value (Black): \", tp/(tp+fp))\n",
        "print(\"Negative predictive value (Black): \", tn/(tn+fn))"
      ],
      "execution_count": null,
      "outputs": [
        {
          "output_type": "stream",
          "text": [
            "False positive rate (Black)      :  0.34317548746518106\n",
            "False negative rate (Black)      :  0.37243556023145713\n",
            "Positive predictive value (Black):  0.6594803758982863\n",
            "Negative predictive value (Black):  0.6248012718600954\n"
          ],
          "name": "stdout"
        }
      ]
    },
    {
      "cell_type": "code",
      "metadata": {
        "id": "VuUHXpqYo4t6",
        "colab": {
          "base_uri": "https://localhost:8080/",
          "height": 90
        },
        "outputId": "5f3fef79-3368-4e0f-ad05-088ca135de65"
      },
      "source": [
        "# adjust for white defendants\n",
        "white_threshold  = 4\n",
        "df_white = df[df['race']==\"Caucasian\"].copy()\n",
        "df_white['is_med_or_high_risk'] = (df_white['decile_score']>=white_threshold).astype(int)\n",
        "[[tn , fp],[fn , tp]]  = confusion_matrix(df_white['two_year_recid'], df_white['is_med_or_high_risk'])\n",
        "print(\"False positive rate (white)      : \", fp/(fp+tn))\n",
        "print(\"False negative rate (white)      : \", fn/(fn+tp))\n",
        "print(\"Positive predictive value (white): \", tp/(tp+fp))\n",
        "print(\"Negative predictive value (white): \", tn/(tn+fn))"
      ],
      "execution_count": null,
      "outputs": [
        {
          "output_type": "stream",
          "text": [
            "False positive rate (white)      :  0.35013440860215056\n",
            "False negative rate (white)      :  0.36024844720496896\n",
            "Positive predictive value (white):  0.5425812115891132\n",
            "Negative predictive value (white):  0.7353612167300381\n"
          ],
          "name": "stdout"
        }
      ]
    },
    {
      "cell_type": "markdown",
      "metadata": {
        "id": "6l8iYb8GjBFp"
      },
      "source": [
        "Why is it so tricky to satisfy multiple types of fairness at once? This is due to a proven *impossibility result*.\n",
        "\n",
        "Any time\n",
        "\n",
        "* the *base rate* (prevalence of the positive condition) is different in the two groups, and\n",
        "* we do not have a perfect classifier\n",
        "\n",
        "Then we cannot simultaneously satisfy:\n",
        "\n",
        "* Equal PPV and NPV for both groups (known as **conditional use accuracy equality**), and\n",
        "* Equal FPR and FNR for both groups (known as **equalized odds** or **conditional procedure accuracy equality**)\n",
        "\n",
        "The proof is in: [Inherent Trade-Offs in the Fair Determination of Risk Scores](https://arxiv.org/pdf/1609.05807.pdf)\n",
        "\n"
      ]
    },
    {
      "cell_type": "markdown",
      "metadata": {
        "id": "hzST2SIkj6fI"
      },
      "source": [
        "Some great demos on this:\n",
        "\n",
        "* Google's People + AI + Research (PAIR) group explainer: [Measuring fairness](https://pair.withgoogle.com/explorables/measuring-fairness/)\n",
        "* Another Google Explainer: [Attacking discrimination with smarter machine learning](https://research.google.com/bigpicture/attacking-discrimination-in-ml/)"
      ]
    },
    {
      "cell_type": "markdown",
      "metadata": {
        "id": "ae4RJYiBg3-q"
      },
      "source": [
        "### Are human decision-makers more fair?\n",
        "\n",
        "\n",
        "From [The accuracy, fairness, and limits of predicting recidivism](https://www.ncbi.nlm.nih.gov/pmc/articles/PMC5777393/) (Julia Dressel and Hany Farid, January 2018):\n",
        "\n",
        "![Human vs. COMPAS predictions](https://www.ncbi.nlm.nih.gov/pmc/articles/PMC5777393/bin/aao5580-F1.jpg)\n",
        "\n",
        "\n",
        "> Participants saw a short description of a defendant that included the defendant’s sex, age, and previous criminal history, but not their race (see Materials and Methods). Participants predicted whether this person would recidivate within 2 years of their most recent crime.... We compare these results with the performance of COMPAS.\n"
      ]
    },
    {
      "cell_type": "markdown",
      "metadata": {
        "id": "aFa5s8F0gzAy"
      },
      "source": [
        "## What we learned\n",
        "\n",
        "* A model can be biased with respect to age, race, gender, if those features are not used as input to the model.\n",
        "* There are many measures of fairness, it may be impossible to satisfy some combination of these simultaneously.\n",
        "* Human biases and unfairness in society leak into the data used to train machine learning models."
      ]
    },
    {
      "cell_type": "markdown",
      "metadata": {
        "id": "tEzcRiu3dshg"
      },
      "source": [
        "## More details on the COMPAS analysis\n",
        "\n",
        "-   Julia Angwin, Jeff Larson, Surya Mattu and Lauren Kirchner, May\n",
        "    2016, [Machine\n",
        "    Bias](https://www.propublica.org/article/machine-bias-risk-assessments-in-criminal-sentencing)\n",
        "-   Jeff Larson, Surya Mattu, Lauren Kirchner and Julia Angwin, May\n",
        "    2016, [How We Analyzed the COMPAS Recidivism\n",
        "    Algorithm](https://www.propublica.org/article/how-we-analyzed-the-compas-recidivism-algorithm)\n",
        "-   William Dieterich, Christina Mendoza, and Tim Brennan, July 2016,\n",
        "    [COMPAS Risk Scales: Demonstrating Accuracy Equity and Predictive\n",
        "    Parity](http://go.volarisgroup.com/rs/430-MBX-989/images/ProPublica_Commentary_Final_070616.pdf)\n"
      ]
    }
  ]
}