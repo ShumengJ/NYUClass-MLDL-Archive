{
  "cells": [
    {
      "cell_type": "markdown",
      "metadata": {
        "id": "view-in-github",
        "colab_type": "text"
      },
      "source": [
        "<a href=\"https://colab.research.google.com/github/ShumengJ/ECEGY6143-ML-Archive/blob/main/notebooks/2-compute-by-hand.ipynb\" target=\"_parent\"><img src=\"https://colab.research.google.com/assets/colab-badge.svg\" alt=\"Open In Colab\"/></a>"
      ]
    },
    {
      "cell_type": "markdown",
      "metadata": {
        "id": "VhS4LisJ0aMf"
      },
      "source": [
        "Computing regression coefficients\n",
        "---------------------------------\n",
        "\n",
        "This notebook walks through the steps involved in manual (pen and paper)\n",
        "computation of the optimal least squares regression coefficients, using\n",
        "the normal equations.\n",
        "\n",
        "We’ll also show how to do each of these steps in Python, so that you can\n",
        "try other values for $X$ and $y$ and then check your work."
      ],
      "id": "VhS4LisJ0aMf"
    },
    {
      "cell_type": "code",
      "execution_count": null,
      "metadata": {
        "id": "MUNLvvrF0aMi"
      },
      "outputs": [],
      "source": [
        "import pandas as pd\n",
        "import seaborn as sns\n",
        "import numpy as np\n",
        "\n",
        "from IPython.core.interactiveshell import InteractiveShell\n",
        "InteractiveShell.ast_node_interactivity = \"all\""
      ],
      "id": "MUNLvvrF0aMi"
    },
    {
      "cell_type": "markdown",
      "metadata": {
        "id": "5XLHjsx60aMj"
      },
      "source": [
        "We will start with the labeled data. Our data includes four samples,\n",
        "with two features:\n",
        "\n",
        "$$ X =\n",
        "\\begin{bmatrix}\n",
        "1 & 2 \\\\\n",
        "2 & 3 \\\\\n",
        "4 & 1 \\\\\n",
        "5 & 5\n",
        "\\end{bmatrix},\n",
        "y =\n",
        "\\begin{bmatrix}\n",
        "3  \\\\\n",
        "2 \\\\\n",
        "7 \\\\\n",
        "1\n",
        "\\end{bmatrix}\n",
        "$$"
      ],
      "id": "5XLHjsx60aMj"
    },
    {
      "cell_type": "code",
      "execution_count": null,
      "metadata": {
        "id": "7ZaOHvXO0aMk"
      },
      "outputs": [],
      "source": [
        "X = [[1,2], [2, 3], [4, 1], [5, 5]]\n",
        "y = [3, 2, 7, 1]"
      ],
      "id": "7ZaOHvXO0aMk"
    },
    {
      "cell_type": "markdown",
      "metadata": {
        "id": "5onKrAmh0aMk"
      },
      "source": [
        "We can use `seaborn` to plot each column of $X$ versus $y$:"
      ],
      "id": "5onKrAmh0aMk"
    },
    {
      "cell_type": "code",
      "execution_count": null,
      "metadata": {
        "id": "sVgBkTbD0aMk"
      },
      "outputs": [],
      "source": [
        "df = pd.DataFrame(X, columns = [ 'x1', 'x2'])\n",
        "df = df.assign(y=y)\n",
        "\n",
        "melted = df.melt(id_vars=['y'], value_vars=[ 'x1','x2'])\n",
        "g = sns.FacetGrid(melted, col='variable', col_wrap=3);\n",
        "g.map(sns.scatterplot, 'value', 'y');"
      ],
      "id": "sVgBkTbD0aMk"
    },
    {
      "cell_type": "markdown",
      "metadata": {
        "id": "gAL78HFQ0aMk"
      },
      "source": [
        "Of course, we will assume a linear model. For a given sample:\n",
        "\n",
        "$$\\hat{y} = w_0 + w_1 x_1 + w_2 x_2$$"
      ],
      "id": "gAL78HFQ0aMk"
    },
    {
      "cell_type": "markdown",
      "metadata": {
        "id": "SPjqHuUh0aMl"
      },
      "source": [
        "Next, we will create a design matrix $A$ by horizontally “stacking” a\n",
        "vector of 1s and the matrix $X$:\n",
        "\n",
        "$$ A =\n",
        "\\begin{bmatrix}\n",
        "1 & 1 & 2 \\\\\n",
        "1 & 2 & 3 \\\\\n",
        "1 & 4 & 1 \\\\\n",
        "1 & 5 & 5\n",
        "\\end{bmatrix},\n",
        "$$"
      ],
      "id": "SPjqHuUh0aMl"
    },
    {
      "cell_type": "code",
      "execution_count": null,
      "metadata": {
        "id": "KC3Md6rO0aMl"
      },
      "outputs": [],
      "source": [
        "A = np.hstack((np.ones(4)[:,None], X))\n",
        "A"
      ],
      "id": "KC3Md6rO0aMl"
    },
    {
      "cell_type": "markdown",
      "metadata": {
        "id": "sGgQS4dq0aMl"
      },
      "source": [
        "Now we can represent our linear model more easily using matrices:\n",
        "\n",
        "$$\\hat{\\mathbf{\\hat{y}}} = A\\mathbf{w}$$\n",
        "\n",
        "where $\\hat{\\mathbf{\\hat{y}}}$ and $\\mathbf{w}$ are vectors."
      ],
      "id": "sGgQS4dq0aMl"
    },
    {
      "cell_type": "markdown",
      "metadata": {
        "id": "E9ZxCw9L0aMm"
      },
      "source": [
        "The optimal least squares values for the vector $w$ are\n",
        "\n",
        "$$w^* = (A^T A)^{-1} A^{T} \\mathbf{y}$$\n",
        "\n",
        "Note that the least-squares solutions are the solutions of the matrix\n",
        "equation\n",
        "\n",
        "$$ A^T A \\mathbf{w} = A^T \\mathbf{y}$$\n",
        "\n",
        "A matrix equation is in the form $Ax=b$, where $A$ is an $m \\times n$\n",
        "matrix and $b$ is a column vector with $m$ entries. It can be solved for\n",
        "$x$ by forming the augmented matrix $(A | b)$ and then using elementary\n",
        "row operations to get it in row reduced form.\n",
        "\n",
        "Thus, to get $w$ we will:\n",
        "\n",
        "-   Compute the matrix $A^T A$ and the vector $A^T y$.\n",
        "-   Form the augmented matrix for the matrix equation $A^T A w = A^T y$:\n",
        "    $(A^T A | A^T y)$\n",
        "-   Row reduce to find the optimal value for $w$, \\$w^\\* \\$."
      ],
      "id": "E9ZxCw9L0aMm"
    },
    {
      "cell_type": "markdown",
      "metadata": {
        "id": "TkZyKCY90aMm"
      },
      "source": [
        "The transpose of $A$, $A^T$, is the matrix whose rows are the columns of\n",
        "$A$:\n",
        "\n",
        "$$ A^T =\n",
        "\\begin{bmatrix}\n",
        "1 & 1 & 1 & 1 \\\\\n",
        "1 & 2 & 4 & 5 \\\\\n",
        "2 & 3 & 1 & 5\n",
        "\\end{bmatrix}\n",
        "$$"
      ],
      "id": "TkZyKCY90aMm"
    },
    {
      "cell_type": "code",
      "execution_count": null,
      "metadata": {
        "id": "LwLnSadj0aMm"
      },
      "outputs": [],
      "source": [
        "A.T"
      ],
      "id": "LwLnSadj0aMm"
    },
    {
      "cell_type": "markdown",
      "metadata": {
        "id": "GPDxanm90aMm"
      },
      "source": [
        "To solve\n",
        "\n",
        "$$ A^T A w = A^T y$$\n",
        "\n",
        "we’ll need $A^T A$:\n",
        "\n",
        "$$ A^T A =\n",
        "\\begin{bmatrix}\n",
        "1 & 1 & 1 & 1 \\\\\n",
        "1 & 2 & 4 & 5 \\\\\n",
        "2 & 3 & 1 & 5\n",
        "\\end{bmatrix}\n",
        "\\begin{bmatrix}\n",
        "1 & 1 & 2 \\\\\n",
        "1 & 2 & 3 \\\\\n",
        "1 & 4 & 1 \\\\\n",
        "1 & 5 & 5\n",
        "\\end{bmatrix} =\n",
        "\\begin{bmatrix}\n",
        "4 & 12 & 11 \\\\\n",
        "12 & 46 & 37 \\\\\n",
        "11 & 37 & 39\n",
        "\\end{bmatrix}\n",
        "$$"
      ],
      "id": "GPDxanm90aMm"
    },
    {
      "cell_type": "code",
      "execution_count": null,
      "metadata": {
        "id": "WTl8cYKF0aMm"
      },
      "outputs": [],
      "source": [
        "A.T.dot(A)"
      ],
      "id": "WTl8cYKF0aMm"
    },
    {
      "cell_type": "markdown",
      "metadata": {
        "id": "HmcKEarf0aMm"
      },
      "source": [
        "and $A^T y$:\n",
        "\n",
        "$$ A^T y =\n",
        "\\begin{bmatrix}\n",
        "1 & 1 & 1 & 1 \\\\\n",
        "1 & 2 & 4 & 5 \\\\\n",
        "2 & 3 & 1 & 5\n",
        "\\end{bmatrix}\n",
        "\\begin{bmatrix}\n",
        "3  \\\\\n",
        "2 \\\\\n",
        "7 \\\\\n",
        "1\n",
        "\\end{bmatrix} =\n",
        "\\begin{bmatrix}\n",
        "13 \\\\\n",
        "40 \\\\\n",
        "24\n",
        "\\end{bmatrix}\n",
        "$$"
      ],
      "id": "HmcKEarf0aMm"
    },
    {
      "cell_type": "code",
      "execution_count": null,
      "metadata": {
        "id": "Ce6Ijyj20aMm"
      },
      "outputs": [],
      "source": [
        "A.T.dot(y)"
      ],
      "id": "Ce6Ijyj20aMm"
    },
    {
      "cell_type": "markdown",
      "metadata": {
        "id": "mi-8j3hR0aMn"
      },
      "source": [
        "Next, create the augmented matrix $(A^T A | A^T y)$:\n",
        "\n",
        "$$ (A^T A | A^T y)=\n",
        "\\begin{bmatrix}\n",
        "4  & 12 & 11 & | & 13 \\\\\n",
        "12 & 46 & 37 & | & 40 \\\\\n",
        "11 & 37 & 39 & | & 24\n",
        "\\end{bmatrix}\n",
        "$$"
      ],
      "id": "mi-8j3hR0aMn"
    },
    {
      "cell_type": "code",
      "execution_count": null,
      "metadata": {
        "id": "OWkHVVd50aMn"
      },
      "outputs": [],
      "source": [
        "M1 = np.hstack([A.T.dot(A), A.T.dot(y)[:,None]])\n",
        "M1"
      ],
      "id": "OWkHVVd50aMn"
    },
    {
      "cell_type": "markdown",
      "metadata": {
        "id": "jIKdAZkJ0aMn"
      },
      "source": [
        "We will perform some elementary row operations on the augmented matrix\n",
        "to get $A^T A$ in row reduced form:"
      ],
      "id": "jIKdAZkJ0aMn"
    },
    {
      "cell_type": "code",
      "execution_count": null,
      "metadata": {
        "id": "W9fQVyev0aMn"
      },
      "outputs": [],
      "source": [
        "M2 = np.vstack([M1[0], M1[1]-3*M1[0], 4*M1[2]-11*M1[0]])\n",
        "M2"
      ],
      "id": "W9fQVyev0aMn"
    },
    {
      "cell_type": "code",
      "execution_count": null,
      "metadata": {
        "id": "DfBhyW-W0aMn"
      },
      "outputs": [],
      "source": [
        "M3 = np.vstack([M2[0], M2[1], 5*M2[2]-8*M2[1]])\n",
        "M3"
      ],
      "id": "DfBhyW-W0aMn"
    },
    {
      "cell_type": "code",
      "execution_count": null,
      "metadata": {
        "id": "bGa9-Yqf0aMn"
      },
      "outputs": [],
      "source": [
        "M4 = np.vstack([M3[0], 143*M3[1]-4*M3[2], M3[2]])\n",
        "M4"
      ],
      "id": "bGa9-Yqf0aMn"
    },
    {
      "cell_type": "code",
      "execution_count": null,
      "metadata": {
        "id": "gfT_60w10aMn"
      },
      "outputs": [],
      "source": [
        "M5 = np.vstack([143/2*(M4[0]-12/1430*M4[1] - 11/143*M4[2]), M4[1], M4[2]])\n",
        "M5"
      ],
      "id": "gfT_60w10aMn"
    },
    {
      "cell_type": "code",
      "execution_count": null,
      "metadata": {
        "id": "w6Txb7hB0aMn"
      },
      "outputs": [],
      "source": [
        "M6 = np.vstack([M5[0]/286, M5[1]/1430, M5[2]/143])\n",
        "M6"
      ],
      "id": "w6Txb7hB0aMn"
    },
    {
      "cell_type": "markdown",
      "metadata": {
        "id": "azkCoQNa0aMn"
      },
      "source": [
        "When we’re finished, our augmented matrix looks like this:\n",
        "\n",
        "$$\n",
        "\\begin{bmatrix}\n",
        "1 & 0 & 0 & | & \\frac{1597}{286} \\\\\n",
        "0 & 1 & 0 & | & \\frac{1115}{1430} \\\\\n",
        "0 & 0 & 1 & | & \\frac{-243}{143}\n",
        "\\end{bmatrix}\n",
        "$$\n",
        "\n",
        "and so\n",
        "\n",
        "$$ w^* = \\left[ \\frac{1597}{286}, \\frac{1115}{1430}, \\frac{-243}{143} \\right] $$"
      ],
      "id": "azkCoQNa0aMn"
    },
    {
      "cell_type": "code",
      "execution_count": null,
      "metadata": {
        "id": "GIBcueOl0aMn"
      },
      "outputs": [],
      "source": [
        "M6[:,3]"
      ],
      "id": "GIBcueOl0aMn"
    },
    {
      "cell_type": "markdown",
      "metadata": {
        "id": "9u0uYage0aMn"
      },
      "source": [
        "Compare this to the known solution:"
      ],
      "id": "9u0uYage0aMn"
    },
    {
      "cell_type": "code",
      "execution_count": null,
      "metadata": {
        "id": "ELneFOpg0aMn"
      },
      "outputs": [],
      "source": [
        "np.linalg.inv( A.T.dot(A) ).dot(A.T.dot(y))"
      ],
      "id": "ELneFOpg0aMn"
    }
  ],
  "nbformat": 4,
  "nbformat_minor": 5,
  "metadata": {
    "colab": {
      "provenance": [],
      "include_colab_link": true
    }
  }
}